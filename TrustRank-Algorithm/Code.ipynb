{
 "cells": [
  {
   "cell_type": "markdown",
   "metadata": {},
   "source": [
    "<h1><center> Fraud Analytics using Predictive and Social Network Techniques (CS6890) </center></h1>\n",
    "<h2><center> The Trust-Rank Algorithm </center></h2>"
   ]
  },
  {
   "cell_type": "markdown",
   "metadata": {},
   "source": [
    "<h3>Team members:</h3>\n",
    "<center>\n",
    "    <h4>\n",
    "        <table>\n",
    "            <tr>\n",
    "                <th> Name </th>\n",
    "                <th> Roll Number </th>\n",
    "            </tr>\n",
    "            <tr>\n",
    "                <td> Kritik Agarwal </td>\n",
    "                <td> CS23MTECH11009 </td>\n",
    "            </tr>\n",
    "            <tr>\n",
    "                <td> Raghavendra Kulkarni </td>\n",
    "                <td> CS23MTECH11016 </td>\n",
    "            </tr>\n",
    "            <tr>\n",
    "                <td> Arnab Ghosh </td>\n",
    "                <td> CS23MTECH11025 </td>\n",
    "            </tr>\n",
    "            <tr>\n",
    "                <td> Shagun Sharma </td>\n",
    "                <td> CS23MTECH14013 </td>\n",
    "            </tr>\n",
    "            <tr>\n",
    "                <td> Trishita Saha </td>\n",
    "                <td> CS23MTECH14016 </td>\n",
    "            </tr>\n",
    "        </table>\n",
    "    </h4>\n",
    "</center>"
   ]
  },
  {
   "cell_type": "markdown",
   "metadata": {},
   "source": [
    "### Import the Required Packages"
   ]
  },
  {
   "cell_type": "code",
   "execution_count": 1,
   "metadata": {},
   "outputs": [],
   "source": [
    "# Packages for Data Handling\n",
    "import pandas as pd\n",
    "\n",
    "# Packages for Graph Handling\n",
    "import networkx as nx\n",
    "\n",
    "# Packages for Result Interpretation\n",
    "import matplotlib.pyplot as plt"
   ]
  },
  {
   "cell_type": "markdown",
   "metadata": {},
   "source": [
    "### Load the Payments data and create the graph"
   ]
  },
  {
   "cell_type": "code",
   "execution_count": 2,
   "metadata": {},
   "outputs": [],
   "source": [
    "# Create a MultiDiGraph\n",
    "graph = nx.MultiDiGraph()\n",
    "\n",
    "# Open the file and assign a file handler\n",
    "with open('Payments.csv', 'r') as file:\n",
    "\n",
    "    # Read and ignore the header line\n",
    "    line = file.readline()\n",
    "\n",
    "    # For all the following lines\n",
    "    for line in file.readlines():\n",
    "\n",
    "        # Split the line into sender, receiver and amount of the payment\n",
    "        sender, receiver, amount = map(int, line.split(','))\n",
    "\n",
    "        # Add the payment as an edge between the nodes denoting the sender and the receiver\n",
    "        graph.add_edge(sender, receiver, weight = amount)"
   ]
  },
  {
   "cell_type": "markdown",
   "metadata": {},
   "source": [
    "### Normalize the out-going edge weights to sum to 1"
   ]
  },
  {
   "cell_type": "code",
   "execution_count": 3,
   "metadata": {},
   "outputs": [],
   "source": [
    "# For every node in the graph\n",
    "for node in graph.nodes():\n",
    "\n",
    "    # Calculate the sum of edge weights of all outgoing edges\n",
    "    total_weight = sum(data['weight'] for _, _, data in graph.edges(node, data=True))\n",
    "    \n",
    "    # Ignore the vertex with no outgoing edges\n",
    "    if total_weight == 0:\n",
    "        continue\n",
    "\n",
    "    # For every outgoing edge of the node\n",
    "    for neighbor, _, data in graph.edges(node, data=True):\n",
    "\n",
    "        # Divide the edge weight by the sum to normalize\n",
    "        data['weight'] /= total_weight"
   ]
  },
  {
   "cell_type": "markdown",
   "metadata": {},
   "source": [
    "### Load the Bad senders data"
   ]
  },
  {
   "cell_type": "code",
   "execution_count": 4,
   "metadata": {},
   "outputs": [],
   "source": [
    "# Initialize a set to store the known bad senders\n",
    "bad_senders = set()\n",
    "\n",
    "# Open the file and assign a file handler\n",
    "with open('bad_sender.csv', 'r') as file:\n",
    "\n",
    "    # Read and ignore the header line\n",
    "    line = file.readline()\n",
    "\n",
    "    # For all the following lines\n",
    "    for line in file.readlines():\n",
    "\n",
    "        # Add the bad sender id to the set\n",
    "        bad_senders.add(int(line))\n",
    "\n",
    "# Store the total number of bad senders\n",
    "num_bad_senders = len(bad_senders)"
   ]
  },
  {
   "cell_type": "markdown",
   "metadata": {},
   "source": [
    "### Run the Trust rank algorithm"
   ]
  },
  {
   "cell_type": "code",
   "execution_count": 5,
   "metadata": {},
   "outputs": [],
   "source": [
    "# Initialize the seed scores for the nodes\n",
    "score = {node : (1/num_bad_senders if node in bad_senders else 0) for node in graph.nodes()}\n",
    "\n",
    "# Set the iteration parameters\n",
    "max_iterations, alpha, damping_factor, tolerance = 2000, 1/len(graph.nodes()), 0.85, 10e-19\n",
    "\n",
    "# In every iteration\n",
    "for iteration in range(max_iterations):\n",
    "    \n",
    "    # Initialize the new scores for the nodes\n",
    "    new_score = {node : (1/num_bad_senders if node in bad_senders else 0) for node in graph.nodes()}\n",
    "    \n",
    "    # For every node of the graph\n",
    "    for node in graph.nodes():\n",
    "\n",
    "        # For every receiving neighbor of the node\n",
    "        for neighbor, edges in graph[node].items():\n",
    "                \n",
    "                # For every edge between the node and the receiving neighbor\n",
    "                for edge in edges.values():\n",
    "\n",
    "                    # Update the score of the neighbor\n",
    "                    new_score[neighbor] += score[node]*edge.get('weight', 0)\n",
    "    \n",
    "    # Include the damping factor and smoothing value for the node scores\n",
    "    new_score = {node : (new_score[node]*damping_factor + alpha*(1 - damping_factor)) for node in graph.nodes()}\n",
    "    \n",
    "    # Check for convergence\n",
    "    if all([abs(new_score[node] - score[node]) < tolerance for node in graph.nodes()]):\n",
    "        break\n",
    "    \n",
    "    # Shift the scores for next iteration\n",
    "    score = new_score"
   ]
  },
  {
   "cell_type": "markdown",
   "metadata": {},
   "source": [
    "### Set the threshold and identify the Bad senders"
   ]
  },
  {
   "cell_type": "code",
   "execution_count": 6,
   "metadata": {},
   "outputs": [
    {
     "name": "stdout",
     "output_type": "stream",
     "text": [
      "Now there are 37 bad senders.\n",
      "They are 1668, 1031, 1161, 1034, 1038, 1041, 1042, 1173, 1303, 1944, 1048, 1562, 1050, 1821, 1836, 1201, 1076, 1205, 1210, 1084, 1086, 1088, 1094, 1480, 1099, 1489, 1626, 1122, 1256, 1259, 1007, 1393, 1138, 1011, 1013, 1144, 1147\n",
      "The newly identified 17 bad senders are 1088, 1122, 1094, 1480, 1038, 1144, 1041, 1201, 1138, 1011, 1173, 1205, 1626, 1013, 1050, 1084, 1086\n"
     ]
    }
   ],
   "source": [
    "# Set the threshold for identifying bad senders\n",
    "threshold = min([score[node] for node in bad_senders])\n",
    "\n",
    "# Identify the new bad senders based on the threshold\n",
    "new_bad_senders = set([node for node in graph.nodes() if score[node] >= threshold])\n",
    "\n",
    "# Print the new bad sender IDs\n",
    "print('Now there are {} bad senders.'.format(len(new_bad_senders)))\n",
    "print('They are {}'.format(', '.join(map(str, new_bad_senders))))\n",
    "print('The newly identified {} bad senders are {}'.format(len(new_bad_senders) - len(bad_senders), ', '.join(map(str, new_bad_senders.difference(bad_senders)))))"
   ]
  },
  {
   "cell_type": "code",
   "execution_count": 7,
   "metadata": {},
   "outputs": [
    {
     "name": "stdout",
     "output_type": "stream",
     "text": [
      "The top 10 scores of bad senders are : \n",
      "0.1860087378457204\n",
      "0.17730705598268548\n",
      "0.17410612265169015\n",
      "0.12414467292186009\n",
      "0.09687094123706333\n",
      "0.09643505791988981\n",
      "0.07704341088085703\n",
      "0.07295612362538079\n",
      "0.06249344189009486\n",
      "0.06243371355838374\n"
     ]
    }
   ],
   "source": [
    "# Extract the bad sender scores and sort them in reverse order\n",
    "bad_scores = list(score.items())\n",
    "bad_scores.sort(key = lambda x : x[1], reverse = True)\n",
    "\n",
    "# Print the top 10 bad sender scores\n",
    "print('The top 10 scores of bad senders are : \\n{}'.format('\\n'.join(map(str, bad_scores[:10]))))"
   ]
  },
  {
   "cell_type": "markdown",
   "metadata": {},
   "source": [
    "### Result Visualizations"
   ]
  },
  {
   "cell_type": "code",
   "execution_count": 8,
   "metadata": {},
   "outputs": [],
   "source": [
    "# A function that returns the score of a sender with given ID\n",
    "def findScore(index):\n",
    "    return score[index]\n",
    "\n",
    "# A function to check if a bad sender was already known or newly discovered\n",
    "def isNew(index):\n",
    "    return index in new_bad_senders.difference(bad_senders)\n",
    "\n",
    "# Data aggregation for plotting\n",
    "data = pd.read_csv('Payments.csv')\n",
    "agg = pd.DataFrame(data.groupby('Sender', sort = False).sum()['Amount'])\n",
    "agg['Score'] = agg.index.map(findScore)\n",
    "agg['isNew'] = agg.index.map(isNew)"
   ]
  },
  {
   "cell_type": "code",
   "execution_count": 9,
   "metadata": {},
   "outputs": [
    {
     "data": {
      "image/png": "[encoded data removed]",
      "text/plain": [
       "<Figure size 640x480 with 1 Axes>"
      ]
     },
     "metadata": {},
     "output_type": "display_data"
    }
   ],
   "source": [
    "# Plot the graph\n",
    "plt.scatter(agg.loc[agg.Score < threshold].Amount, agg.loc[agg.Score < threshold].Score, color = 'b', label = 'Genuine senders')\n",
    "plt.scatter(agg.loc[(agg.Score >= threshold) & (agg.isNew == False)].Amount, agg.loc[(agg.Score >= threshold) & (agg.isNew == False)].Score, color = 'g', label = 'Known Fraudulent senders')\n",
    "plt.scatter(agg.loc[(agg.Score >= threshold) & (agg.isNew == True)].Amount, agg.loc[(agg.Score >= threshold) & (agg.isNew == True)].Score, color = 'r', label = 'Discovered Fraudulent senders')\n",
    "plt.xlabel('Amount')\n",
    "plt.ylabel('Score')\n",
    "plt.title('Sender Score vs Total Amount sent')\n",
    "plt.hlines(y = [threshold], xmin = 0, xmax = agg.Amount.max(), colors = 'r', label = 'Threshold')\n",
    "plt.legend()\n",
    "plt.savefig('Results.png')\n",
    "plt.show()"
   ]
  }
 ],
 "metadata": {
  "kernelspec": {
   "display_name": ".conda",
   "language": "python",
   "name": "python3"
  },
  "language_info": {
   "codemirror_mode": {
    "name": "ipython",
    "version": 3
   },
   "file_extension": ".py",
   "mimetype": "text/x-python",
   "name": "python",
   "nbconvert_exporter": "python",
   "pygments_lexer": "ipython3",
   "version": "3.11.7"
  }
 },
 "nbformat": 4,
 "nbformat_minor": 2
}
