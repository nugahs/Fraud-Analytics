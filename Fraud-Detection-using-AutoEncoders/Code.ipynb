{
  "cells": [
    {
      "cell_type": "markdown",
      "metadata": {
        "id": "IKttTWqsjTza"
      },
      "source": [
        "<h3><h3>\n",
        "<h1><center> Fraud Analytics using Predictive and Social Network Techniques (CS6890) </center></h1>\n",
        "<h2><center> Fraud Detection Using an Autoencoders and Variational Autoencoders </center></h2>"
      ]
    },
    {
      "cell_type": "markdown",
      "metadata": {
        "id": "oRHY6AacjTzd"
      },
      "source": [
        "<h3>Team members:</h3>\n",
        "<center>\n",
        "    <h4>\n",
        "        <table>\n",
        "            <tr>\n",
        "                <th> Name </th>\n",
        "                <th> Roll Number </th>\n",
        "            </tr>\n",
        "            <tr>\n",
        "                <td> Kritik Agarwal </td>\n",
        "                <td> CS23MTECH11009 </td>\n",
        "            </tr>\n",
        "            <tr>\n",
        "                <td> Raghavendra Kulkarni </td>\n",
        "                <td> CS23MTECH11016 </td>\n",
        "            </tr>\n",
        "            <tr>\n",
        "                <td> Arnab Ghosh </td>\n",
        "                <td> CS23MTECH11025 </td>\n",
        "            </tr>\n",
        "            <tr>\n",
        "                <td> Shagun Sharma </td>\n",
        "                <td> CS23MTECH14013 </td>\n",
        "            </tr>\n",
        "            <tr>\n",
        "                <td> Trishita Saha </td>\n",
        "                <td> CS23MTECH14016 </td>\n",
        "            </tr>\n",
        "        </table>\n",
        "    </h4>\n",
        "</center>"
      ]
    },
    {
      "cell_type": "markdown",
      "metadata": {
        "id": "oUbWCzDpjTze"
      },
      "source": [
        "### Import the required packages"
      ]
    },
    {
      "cell_type": "code",
      "execution_count": 1,
      "metadata": {
        "id": "vknkmFrqjTzf"
      },
      "outputs": [],
      "source": [
        "# Packages for Data handling\n",
        "import numpy as np\n",
        "import pandas as pd\n",
        "\n",
        "# Packages for Data Preprocessing and Model Testing\n",
        "from sklearn.preprocessing import MinMaxScaler\n",
        "from sklearn.metrics import f1_score, recall_score, precision_score, accuracy_score\n",
        "\n",
        "# Packages for Neural Networks\n",
        "import tensorflow as tf\n",
        "\n",
        "# Packages for Result Visualization\n",
        "import matplotlib.pyplot as plt"
      ]
    },
    {
      "cell_type": "markdown",
      "metadata": {
        "id": "TCfSgUR8jTzg"
      },
      "source": [
        "### Load the Credit Card Dataset"
      ]
    },
    {
      "cell_type": "code",
      "execution_count": 2,
      "metadata": {
        "colab": {
          "base_uri": "https://localhost:8080/",
          "height": 255
        },
        "id": "k2ydgX4XjTzg",
        "outputId": "9a69ba19-896e-4fa2-9047-b94801111076"
      },
      "outputs": [
        {
          "output_type": "execute_result",
          "data": {
            "text/plain": [
              "   Time        V1        V2        V3        V4        V5        V6        V7  \\\n",
              "0   0.0 -1.359807 -0.072781  2.536347  1.378155 -0.338321  0.462388  0.239599   \n",
              "1   0.0  1.191857  0.266151  0.166480  0.448154  0.060018 -0.082361 -0.078803   \n",
              "2   1.0 -1.358354 -1.340163  1.773209  0.379780 -0.503198  1.800499  0.791461   \n",
              "3   1.0 -0.966272 -0.185226  1.792993 -0.863291 -0.010309  1.247203  0.237609   \n",
              "4   2.0 -1.158233  0.877737  1.548718  0.403034 -0.407193  0.095921  0.592941   \n",
              "\n",
              "         V8        V9  ...       V21       V22       V23       V24       V25  \\\n",
              "0  0.098698  0.363787  ... -0.018307  0.277838 -0.110474  0.066928  0.128539   \n",
              "1  0.085102 -0.255425  ... -0.225775 -0.638672  0.101288 -0.339846  0.167170   \n",
              "2  0.247676 -1.514654  ...  0.247998  0.771679  0.909412 -0.689281 -0.327642   \n",
              "3  0.377436 -1.387024  ... -0.108300  0.005274 -0.190321 -1.175575  0.647376   \n",
              "4 -0.270533  0.817739  ... -0.009431  0.798278 -0.137458  0.141267 -0.206010   \n",
              "\n",
              "        V26       V27       V28  Amount  Class  \n",
              "0 -0.189115  0.133558 -0.021053  149.62      0  \n",
              "1  0.125895 -0.008983  0.014724    2.69      0  \n",
              "2 -0.139097 -0.055353 -0.059752  378.66      0  \n",
              "3 -0.221929  0.062723  0.061458  123.50      0  \n",
              "4  0.502292  0.219422  0.215153   69.99      0  \n",
              "\n",
              "[5 rows x 31 columns]"
            ],
            "text/html": [
              "\n",
              "  <div id=\"df-c55c6258-fee4-4ec5-b595-846f44a845a4\" class=\"colab-df-container\">\n",
              "    <div>\n",
              "<style scoped>\n",
              "    .dataframe tbody tr th:only-of-type {\n",
              "        vertical-align: middle;\n",
              "    }\n",
              "\n",
              "    .dataframe tbody tr th {\n",
              "        vertical-align: top;\n",
              "    }\n",
              "\n",
              "    .dataframe thead th {\n",
              "        text-align: right;\n",
              "    }\n",
              "</style>\n",
              "<table border=\"1\" class=\"dataframe\">\n",
              "  <thead>\n",
              "    <tr style=\"text-align: right;\">\n",
              "      <th></th>\n",
              "      <th>Time</th>\n",
              "      <th>V1</th>\n",
              "      <th>V2</th>\n",
              "      <th>V3</th>\n",
              "      <th>V4</th>\n",
              "      <th>V5</th>\n",
              "      <th>V6</th>\n",
              "      <th>V7</th>\n",
              "      <th>V8</th>\n",
              "      <th>V9</th>\n",
              "      <th>...</th>\n",
              "      <th>V21</th>\n",
              "      <th>V22</th>\n",
              "      <th>V23</th>\n",
              "      <th>V24</th>\n",
              "      <th>V25</th>\n",
              "      <th>V26</th>\n",
              "      <th>V27</th>\n",
              "      <th>V28</th>\n",
              "      <th>Amount</th>\n",
              "      <th>Class</th>\n",
              "    </tr>\n",
              "  </thead>\n",
              "  <tbody>\n",
              "    <tr>\n",
              "      <th>0</th>\n",
              "      <td>0.0</td>\n",
              "      <td>-1.359807</td>\n",
              "      <td>-0.072781</td>\n",
              "      <td>2.536347</td>\n",
              "      <td>1.378155</td>\n",
              "      <td>-0.338321</td>\n",
              "      <td>0.462388</td>\n",
              "      <td>0.239599</td>\n",
              "      <td>0.098698</td>\n",
              "      <td>0.363787</td>\n",
              "      <td>...</td>\n",
              "      <td>-0.018307</td>\n",
              "      <td>0.277838</td>\n",
              "      <td>-0.110474</td>\n",
              "      <td>0.066928</td>\n",
              "      <td>0.128539</td>\n",
              "      <td>-0.189115</td>\n",
              "      <td>0.133558</td>\n",
              "      <td>-0.021053</td>\n",
              "      <td>149.62</td>\n",
              "      <td>0</td>\n",
              "    </tr>\n",
              "    <tr>\n",
              "      <th>1</th>\n",
              "      <td>0.0</td>\n",
              "      <td>1.191857</td>\n",
              "      <td>0.266151</td>\n",
              "      <td>0.166480</td>\n",
              "      <td>0.448154</td>\n",
              "      <td>0.060018</td>\n",
              "      <td>-0.082361</td>\n",
              "      <td>-0.078803</td>\n",
              "      <td>0.085102</td>\n",
              "      <td>-0.255425</td>\n",
              "      <td>...</td>\n",
              "      <td>-0.225775</td>\n",
              "      <td>-0.638672</td>\n",
              "      <td>0.101288</td>\n",
              "      <td>-0.339846</td>\n",
              "      <td>0.167170</td>\n",
              "      <td>0.125895</td>\n",
              "      <td>-0.008983</td>\n",
              "      <td>0.014724</td>\n",
              "      <td>2.69</td>\n",
              "      <td>0</td>\n",
              "    </tr>\n",
              "    <tr>\n",
              "      <th>2</th>\n",
              "      <td>1.0</td>\n",
              "      <td>-1.358354</td>\n",
              "      <td>-1.340163</td>\n",
              "      <td>1.773209</td>\n",
              "      <td>0.379780</td>\n",
              "      <td>-0.503198</td>\n",
              "      <td>1.800499</td>\n",
              "      <td>0.791461</td>\n",
              "      <td>0.247676</td>\n",
              "      <td>-1.514654</td>\n",
              "      <td>...</td>\n",
              "      <td>0.247998</td>\n",
              "      <td>0.771679</td>\n",
              "      <td>0.909412</td>\n",
              "      <td>-0.689281</td>\n",
              "      <td>-0.327642</td>\n",
              "      <td>-0.139097</td>\n",
              "      <td>-0.055353</td>\n",
              "      <td>-0.059752</td>\n",
              "      <td>378.66</td>\n",
              "      <td>0</td>\n",
              "    </tr>\n",
              "    <tr>\n",
              "      <th>3</th>\n",
              "      <td>1.0</td>\n",
              "      <td>-0.966272</td>\n",
              "      <td>-0.185226</td>\n",
              "      <td>1.792993</td>\n",
              "      <td>-0.863291</td>\n",
              "      <td>-0.010309</td>\n",
              "      <td>1.247203</td>\n",
              "      <td>0.237609</td>\n",
              "      <td>0.377436</td>\n",
              "      <td>-1.387024</td>\n",
              "      <td>...</td>\n",
              "      <td>-0.108300</td>\n",
              "      <td>0.005274</td>\n",
              "      <td>-0.190321</td>\n",
              "      <td>-1.175575</td>\n",
              "      <td>0.647376</td>\n",
              "      <td>-0.221929</td>\n",
              "      <td>0.062723</td>\n",
              "      <td>0.061458</td>\n",
              "      <td>123.50</td>\n",
              "      <td>0</td>\n",
              "    </tr>\n",
              "    <tr>\n",
              "      <th>4</th>\n",
              "      <td>2.0</td>\n",
              "      <td>-1.158233</td>\n",
              "      <td>0.877737</td>\n",
              "      <td>1.548718</td>\n",
              "      <td>0.403034</td>\n",
              "      <td>-0.407193</td>\n",
              "      <td>0.095921</td>\n",
              "      <td>0.592941</td>\n",
              "      <td>-0.270533</td>\n",
              "      <td>0.817739</td>\n",
              "      <td>...</td>\n",
              "      <td>-0.009431</td>\n",
              "      <td>0.798278</td>\n",
              "      <td>-0.137458</td>\n",
              "      <td>0.141267</td>\n",
              "      <td>-0.206010</td>\n",
              "      <td>0.502292</td>\n",
              "      <td>0.219422</td>\n",
              "      <td>0.215153</td>\n",
              "      <td>69.99</td>\n",
              "      <td>0</td>\n",
              "    </tr>\n",
              "  </tbody>\n",
              "</table>\n",
              "<p>5 rows × 31 columns</p>\n",
              "</div>\n",
              "    <div class=\"colab-df-buttons\">\n",
              "\n",
              "  <div class=\"colab-df-container\">\n",
              "    <button class=\"colab-df-convert\" onclick=\"convertToInteractive('df-c55c6258-fee4-4ec5-b595-846f44a845a4')\"\n",
              "            title=\"Convert this dataframe to an interactive table.\"\n",
              "            style=\"display:none;\">\n",
              "\n",
              "  <svg xmlns=\"http://www.w3.org/2000/svg\" height=\"24px\" viewBox=\"0 -960 960 960\">\n",
              "    <path d=\"M120-120v-720h720v720H120Zm60-500h600v-160H180v160Zm220 220h160v-160H400v160Zm0 220h160v-160H400v160ZM180-400h160v-160H180v160Zm440 0h160v-160H620v160ZM180-180h160v-160H180v160Zm440 0h160v-160H620v160Z\"/>\n",
              "  </svg>\n",
              "    </button>\n",
              "\n",
              "  <style>\n",
              "    .colab-df-container {\n",
              "      display:flex;\n",
              "      gap: 12px;\n",
              "    }\n",
              "\n",
              "    .colab-df-convert {\n",
              "      background-color: #E8F0FE;\n",
              "      border: none;\n",
              "      border-radius: 50%;\n",
              "      cursor: pointer;\n",
              "      display: none;\n",
              "      fill: #1967D2;\n",
              "      height: 32px;\n",
              "      padding: 0 0 0 0;\n",
              "      width: 32px;\n",
              "    }\n",
              "\n",
              "    .colab-df-convert:hover {\n",
              "      background-color: #E2EBFA;\n",
              "      box-shadow: 0px 1px 2px rgba(60, 64, 67, 0.3), 0px 1px 3px 1px rgba(60, 64, 67, 0.15);\n",
              "      fill: #174EA6;\n",
              "    }\n",
              "\n",
              "    .colab-df-buttons div {\n",
              "      margin-bottom: 4px;\n",
              "    }\n",
              "\n",
              "    [theme=dark] .colab-df-convert {\n",
              "      background-color: #3B4455;\n",
              "      fill: #D2E3FC;\n",
              "    }\n",
              "\n",
              "    [theme=dark] .colab-df-convert:hover {\n",
              "      background-color: #434B5C;\n",
              "      box-shadow: 0px 1px 3px 1px rgba(0, 0, 0, 0.15);\n",
              "      filter: drop-shadow(0px 1px 2px rgba(0, 0, 0, 0.3));\n",
              "      fill: #FFFFFF;\n",
              "    }\n",
              "  </style>\n",
              "\n",
              "    <script>\n",
              "      const buttonEl =\n",
              "        document.querySelector('#df-c55c6258-fee4-4ec5-b595-846f44a845a4 button.colab-df-convert');\n",
              "      buttonEl.style.display =\n",
              "        google.colab.kernel.accessAllowed ? 'block' : 'none';\n",
              "\n",
              "      async function convertToInteractive(key) {\n",
              "        const element = document.querySelector('#df-c55c6258-fee4-4ec5-b595-846f44a845a4');\n",
              "        const dataTable =\n",
              "          await google.colab.kernel.invokeFunction('convertToInteractive',\n",
              "                                                    [key], {});\n",
              "        if (!dataTable) return;\n",
              "\n",
              "        const docLinkHtml = 'Like what you see? Visit the ' +\n",
              "          '<a target=\"_blank\" href=https://colab.research.google.com/notebooks/data_table.ipynb>data table notebook</a>'\n",
              "          + ' to learn more about interactive tables.';\n",
              "        element.innerHTML = '';\n",
              "        dataTable['output_type'] = 'display_data';\n",
              "        await google.colab.output.renderOutput(dataTable, element);\n",
              "        const docLink = document.createElement('div');\n",
              "        docLink.innerHTML = docLinkHtml;\n",
              "        element.appendChild(docLink);\n",
              "      }\n",
              "    </script>\n",
              "  </div>\n",
              "\n",
              "\n",
              "<div id=\"df-a8baca92-81f4-4bdf-a75a-33e08489a0fb\">\n",
              "  <button class=\"colab-df-quickchart\" onclick=\"quickchart('df-a8baca92-81f4-4bdf-a75a-33e08489a0fb')\"\n",
              "            title=\"Suggest charts\"\n",
              "            style=\"display:none;\">\n",
              "\n",
              "<svg xmlns=\"http://www.w3.org/2000/svg\" height=\"24px\"viewBox=\"0 0 24 24\"\n",
              "     width=\"24px\">\n",
              "    <g>\n",
              "        <path d=\"M19 3H5c-1.1 0-2 .9-2 2v14c0 1.1.9 2 2 2h14c1.1 0 2-.9 2-2V5c0-1.1-.9-2-2-2zM9 17H7v-7h2v7zm4 0h-2V7h2v10zm4 0h-2v-4h2v4z\"/>\n",
              "    </g>\n",
              "</svg>\n",
              "  </button>\n",
              "\n",
              "<style>\n",
              "  .colab-df-quickchart {\n",
              "      --bg-color: #E8F0FE;\n",
              "      --fill-color: #1967D2;\n",
              "      --hover-bg-color: #E2EBFA;\n",
              "      --hover-fill-color: #174EA6;\n",
              "      --disabled-fill-color: #AAA;\n",
              "      --disabled-bg-color: #DDD;\n",
              "  }\n",
              "\n",
              "  [theme=dark] .colab-df-quickchart {\n",
              "      --bg-color: #3B4455;\n",
              "      --fill-color: #D2E3FC;\n",
              "      --hover-bg-color: #434B5C;\n",
              "      --hover-fill-color: #FFFFFF;\n",
              "      --disabled-bg-color: #3B4455;\n",
              "      --disabled-fill-color: #666;\n",
              "  }\n",
              "\n",
              "  .colab-df-quickchart {\n",
              "    background-color: var(--bg-color);\n",
              "    border: none;\n",
              "    border-radius: 50%;\n",
              "    cursor: pointer;\n",
              "    display: none;\n",
              "    fill: var(--fill-color);\n",
              "    height: 32px;\n",
              "    padding: 0;\n",
              "    width: 32px;\n",
              "  }\n",
              "\n",
              "  .colab-df-quickchart:hover {\n",
              "    background-color: var(--hover-bg-color);\n",
              "    box-shadow: 0 1px 2px rgba(60, 64, 67, 0.3), 0 1px 3px 1px rgba(60, 64, 67, 0.15);\n",
              "    fill: var(--button-hover-fill-color);\n",
              "  }\n",
              "\n",
              "  .colab-df-quickchart-complete:disabled,\n",
              "  .colab-df-quickchart-complete:disabled:hover {\n",
              "    background-color: var(--disabled-bg-color);\n",
              "    fill: var(--disabled-fill-color);\n",
              "    box-shadow: none;\n",
              "  }\n",
              "\n",
              "  .colab-df-spinner {\n",
              "    border: 2px solid var(--fill-color);\n",
              "    border-color: transparent;\n",
              "    border-bottom-color: var(--fill-color);\n",
              "    animation:\n",
              "      spin 1s steps(1) infinite;\n",
              "  }\n",
              "\n",
              "  @keyframes spin {\n",
              "    0% {\n",
              "      border-color: transparent;\n",
              "      border-bottom-color: var(--fill-color);\n",
              "      border-left-color: var(--fill-color);\n",
              "    }\n",
              "    20% {\n",
              "      border-color: transparent;\n",
              "      border-left-color: var(--fill-color);\n",
              "      border-top-color: var(--fill-color);\n",
              "    }\n",
              "    30% {\n",
              "      border-color: transparent;\n",
              "      border-left-color: var(--fill-color);\n",
              "      border-top-color: var(--fill-color);\n",
              "      border-right-color: var(--fill-color);\n",
              "    }\n",
              "    40% {\n",
              "      border-color: transparent;\n",
              "      border-right-color: var(--fill-color);\n",
              "      border-top-color: var(--fill-color);\n",
              "    }\n",
              "    60% {\n",
              "      border-color: transparent;\n",
              "      border-right-color: var(--fill-color);\n",
              "    }\n",
              "    80% {\n",
              "      border-color: transparent;\n",
              "      border-right-color: var(--fill-color);\n",
              "      border-bottom-color: var(--fill-color);\n",
              "    }\n",
              "    90% {\n",
              "      border-color: transparent;\n",
              "      border-bottom-color: var(--fill-color);\n",
              "    }\n",
              "  }\n",
              "</style>\n",
              "\n",
              "  <script>\n",
              "    async function quickchart(key) {\n",
              "      const quickchartButtonEl =\n",
              "        document.querySelector('#' + key + ' button');\n",
              "      quickchartButtonEl.disabled = true;  // To prevent multiple clicks.\n",
              "      quickchartButtonEl.classList.add('colab-df-spinner');\n",
              "      try {\n",
              "        const charts = await google.colab.kernel.invokeFunction(\n",
              "            'suggestCharts', [key], {});\n",
              "      } catch (error) {\n",
              "        console.error('Error during call to suggestCharts:', error);\n",
              "      }\n",
              "      quickchartButtonEl.classList.remove('colab-df-spinner');\n",
              "      quickchartButtonEl.classList.add('colab-df-quickchart-complete');\n",
              "    }\n",
              "    (() => {\n",
              "      let quickchartButtonEl =\n",
              "        document.querySelector('#df-a8baca92-81f4-4bdf-a75a-33e08489a0fb button');\n",
              "      quickchartButtonEl.style.display =\n",
              "        google.colab.kernel.accessAllowed ? 'block' : 'none';\n",
              "    })();\n",
              "  </script>\n",
              "</div>\n",
              "    </div>\n",
              "  </div>\n"
            ],
            "application/vnd.google.colaboratory.intrinsic+json": {
              "type": "dataframe",
              "variable_name": "transactions"
            }
          },
          "metadata": {},
          "execution_count": 2
        }
      ],
      "source": [
        "# Load the data and display the first 5 rows\n",
        "transactions = pd.read_csv('creditcard.csv')\n",
        "transactions.head()"
      ]
    },
    {
      "cell_type": "markdown",
      "metadata": {
        "id": "X8jEmtVxjTzh"
      },
      "source": [
        "### Preprocess the Data"
      ]
    },
    {
      "cell_type": "code",
      "execution_count": 3,
      "metadata": {
        "colab": {
          "base_uri": "https://localhost:8080/"
        },
        "id": "A0sMSJNKjTzh",
        "outputId": "96696021-05dc-4ccd-e4ad-665fef09ffd6"
      },
      "outputs": [
        {
          "output_type": "execute_result",
          "data": {
            "text/plain": [
              "Time      0\n",
              "V1        0\n",
              "V2        0\n",
              "V3        0\n",
              "V4        0\n",
              "V5        0\n",
              "V6        0\n",
              "V7        0\n",
              "V8        0\n",
              "V9        0\n",
              "V10       0\n",
              "V11       0\n",
              "V12       0\n",
              "V13       0\n",
              "V14       0\n",
              "V15       0\n",
              "V16       0\n",
              "V17       0\n",
              "V18       0\n",
              "V19       0\n",
              "V20       0\n",
              "V21       0\n",
              "V22       0\n",
              "V23       0\n",
              "V24       0\n",
              "V25       0\n",
              "V26       0\n",
              "V27       0\n",
              "V28       0\n",
              "Amount    0\n",
              "Class     0\n",
              "dtype: int64"
            ]
          },
          "metadata": {},
          "execution_count": 3
        }
      ],
      "source": [
        "# Check for missing values in the columns\n",
        "transactions.isnull().sum()"
      ]
    },
    {
      "cell_type": "code",
      "execution_count": 4,
      "metadata": {
        "colab": {
          "base_uri": "https://localhost:8080/",
          "height": 255
        },
        "id": "UBfHRy7sjTzj",
        "outputId": "4b59a8b8-a981-4c44-85af-34cb5dd740b1"
      },
      "outputs": [
        {
          "output_type": "execute_result",
          "data": {
            "text/plain": [
              "       Time        V1        V2        V3        V4        V5        V6  \\\n",
              "0  0.000000  0.935192  0.766490  0.881365  0.313023  0.763439  0.267669   \n",
              "1  0.000000  0.978542  0.770067  0.840298  0.271796  0.766120  0.262192   \n",
              "2  0.000006  0.935217  0.753118  0.868141  0.268766  0.762329  0.281122   \n",
              "3  0.000006  0.941878  0.765304  0.868484  0.213661  0.765647  0.275559   \n",
              "4  0.000012  0.938617  0.776520  0.864251  0.269796  0.762975  0.263984   \n",
              "\n",
              "         V7        V8        V9  ...       V21       V22       V23       V24  \\\n",
              "0  0.266815  0.786444  0.475312  ...  0.561184  0.522992  0.663793  0.391253   \n",
              "1  0.264875  0.786298  0.453981  ...  0.557840  0.480237  0.666938  0.336440   \n",
              "2  0.270177  0.788042  0.410603  ...  0.565477  0.546030  0.678939  0.289354   \n",
              "3  0.266803  0.789434  0.414999  ...  0.559734  0.510277  0.662607  0.223826   \n",
              "4  0.268968  0.782484  0.490950  ...  0.561327  0.547271  0.663392  0.401270   \n",
              "\n",
              "        V25       V26       V27       V28    Amount  Class  \n",
              "0  0.585122  0.394557  0.418976  0.312697  0.005824    0.0  \n",
              "1  0.587290  0.446013  0.416345  0.313423  0.000105    0.0  \n",
              "2  0.559515  0.402727  0.415489  0.311911  0.014739    0.0  \n",
              "3  0.614245  0.389197  0.417669  0.314371  0.004807    0.0  \n",
              "4  0.566343  0.507497  0.420561  0.317490  0.002724    0.0  \n",
              "\n",
              "[5 rows x 31 columns]"
            ],
            "text/html": [
              "\n",
              "  <div id=\"df-0fe1122f-96aa-4250-83a6-6e2acfdd92dc\" class=\"colab-df-container\">\n",
              "    <div>\n",
              "<style scoped>\n",
              "    .dataframe tbody tr th:only-of-type {\n",
              "        vertical-align: middle;\n",
              "    }\n",
              "\n",
              "    .dataframe tbody tr th {\n",
              "        vertical-align: top;\n",
              "    }\n",
              "\n",
              "    .dataframe thead th {\n",
              "        text-align: right;\n",
              "    }\n",
              "</style>\n",
              "<table border=\"1\" class=\"dataframe\">\n",
              "  <thead>\n",
              "    <tr style=\"text-align: right;\">\n",
              "      <th></th>\n",
              "      <th>Time</th>\n",
              "      <th>V1</th>\n",
              "      <th>V2</th>\n",
              "      <th>V3</th>\n",
              "      <th>V4</th>\n",
              "      <th>V5</th>\n",
              "      <th>V6</th>\n",
              "      <th>V7</th>\n",
              "      <th>V8</th>\n",
              "      <th>V9</th>\n",
              "      <th>...</th>\n",
              "      <th>V21</th>\n",
              "      <th>V22</th>\n",
              "      <th>V23</th>\n",
              "      <th>V24</th>\n",
              "      <th>V25</th>\n",
              "      <th>V26</th>\n",
              "      <th>V27</th>\n",
              "      <th>V28</th>\n",
              "      <th>Amount</th>\n",
              "      <th>Class</th>\n",
              "    </tr>\n",
              "  </thead>\n",
              "  <tbody>\n",
              "    <tr>\n",
              "      <th>0</th>\n",
              "      <td>0.000000</td>\n",
              "      <td>0.935192</td>\n",
              "      <td>0.766490</td>\n",
              "      <td>0.881365</td>\n",
              "      <td>0.313023</td>\n",
              "      <td>0.763439</td>\n",
              "      <td>0.267669</td>\n",
              "      <td>0.266815</td>\n",
              "      <td>0.786444</td>\n",
              "      <td>0.475312</td>\n",
              "      <td>...</td>\n",
              "      <td>0.561184</td>\n",
              "      <td>0.522992</td>\n",
              "      <td>0.663793</td>\n",
              "      <td>0.391253</td>\n",
              "      <td>0.585122</td>\n",
              "      <td>0.394557</td>\n",
              "      <td>0.418976</td>\n",
              "      <td>0.312697</td>\n",
              "      <td>0.005824</td>\n",
              "      <td>0.0</td>\n",
              "    </tr>\n",
              "    <tr>\n",
              "      <th>1</th>\n",
              "      <td>0.000000</td>\n",
              "      <td>0.978542</td>\n",
              "      <td>0.770067</td>\n",
              "      <td>0.840298</td>\n",
              "      <td>0.271796</td>\n",
              "      <td>0.766120</td>\n",
              "      <td>0.262192</td>\n",
              "      <td>0.264875</td>\n",
              "      <td>0.786298</td>\n",
              "      <td>0.453981</td>\n",
              "      <td>...</td>\n",
              "      <td>0.557840</td>\n",
              "      <td>0.480237</td>\n",
              "      <td>0.666938</td>\n",
              "      <td>0.336440</td>\n",
              "      <td>0.587290</td>\n",
              "      <td>0.446013</td>\n",
              "      <td>0.416345</td>\n",
              "      <td>0.313423</td>\n",
              "      <td>0.000105</td>\n",
              "      <td>0.0</td>\n",
              "    </tr>\n",
              "    <tr>\n",
              "      <th>2</th>\n",
              "      <td>0.000006</td>\n",
              "      <td>0.935217</td>\n",
              "      <td>0.753118</td>\n",
              "      <td>0.868141</td>\n",
              "      <td>0.268766</td>\n",
              "      <td>0.762329</td>\n",
              "      <td>0.281122</td>\n",
              "      <td>0.270177</td>\n",
              "      <td>0.788042</td>\n",
              "      <td>0.410603</td>\n",
              "      <td>...</td>\n",
              "      <td>0.565477</td>\n",
              "      <td>0.546030</td>\n",
              "      <td>0.678939</td>\n",
              "      <td>0.289354</td>\n",
              "      <td>0.559515</td>\n",
              "      <td>0.402727</td>\n",
              "      <td>0.415489</td>\n",
              "      <td>0.311911</td>\n",
              "      <td>0.014739</td>\n",
              "      <td>0.0</td>\n",
              "    </tr>\n",
              "    <tr>\n",
              "      <th>3</th>\n",
              "      <td>0.000006</td>\n",
              "      <td>0.941878</td>\n",
              "      <td>0.765304</td>\n",
              "      <td>0.868484</td>\n",
              "      <td>0.213661</td>\n",
              "      <td>0.765647</td>\n",
              "      <td>0.275559</td>\n",
              "      <td>0.266803</td>\n",
              "      <td>0.789434</td>\n",
              "      <td>0.414999</td>\n",
              "      <td>...</td>\n",
              "      <td>0.559734</td>\n",
              "      <td>0.510277</td>\n",
              "      <td>0.662607</td>\n",
              "      <td>0.223826</td>\n",
              "      <td>0.614245</td>\n",
              "      <td>0.389197</td>\n",
              "      <td>0.417669</td>\n",
              "      <td>0.314371</td>\n",
              "      <td>0.004807</td>\n",
              "      <td>0.0</td>\n",
              "    </tr>\n",
              "    <tr>\n",
              "      <th>4</th>\n",
              "      <td>0.000012</td>\n",
              "      <td>0.938617</td>\n",
              "      <td>0.776520</td>\n",
              "      <td>0.864251</td>\n",
              "      <td>0.269796</td>\n",
              "      <td>0.762975</td>\n",
              "      <td>0.263984</td>\n",
              "      <td>0.268968</td>\n",
              "      <td>0.782484</td>\n",
              "      <td>0.490950</td>\n",
              "      <td>...</td>\n",
              "      <td>0.561327</td>\n",
              "      <td>0.547271</td>\n",
              "      <td>0.663392</td>\n",
              "      <td>0.401270</td>\n",
              "      <td>0.566343</td>\n",
              "      <td>0.507497</td>\n",
              "      <td>0.420561</td>\n",
              "      <td>0.317490</td>\n",
              "      <td>0.002724</td>\n",
              "      <td>0.0</td>\n",
              "    </tr>\n",
              "  </tbody>\n",
              "</table>\n",
              "<p>5 rows × 31 columns</p>\n",
              "</div>\n",
              "    <div class=\"colab-df-buttons\">\n",
              "\n",
              "  <div class=\"colab-df-container\">\n",
              "    <button class=\"colab-df-convert\" onclick=\"convertToInteractive('df-0fe1122f-96aa-4250-83a6-6e2acfdd92dc')\"\n",
              "            title=\"Convert this dataframe to an interactive table.\"\n",
              "            style=\"display:none;\">\n",
              "\n",
              "  <svg xmlns=\"http://www.w3.org/2000/svg\" height=\"24px\" viewBox=\"0 -960 960 960\">\n",
              "    <path d=\"M120-120v-720h720v720H120Zm60-500h600v-160H180v160Zm220 220h160v-160H400v160Zm0 220h160v-160H400v160ZM180-400h160v-160H180v160Zm440 0h160v-160H620v160ZM180-180h160v-160H180v160Zm440 0h160v-160H620v160Z\"/>\n",
              "  </svg>\n",
              "    </button>\n",
              "\n",
              "  <style>\n",
              "    .colab-df-container {\n",
              "      display:flex;\n",
              "      gap: 12px;\n",
              "    }\n",
              "\n",
              "    .colab-df-convert {\n",
              "      background-color: #E8F0FE;\n",
              "      border: none;\n",
              "      border-radius: 50%;\n",
              "      cursor: pointer;\n",
              "      display: none;\n",
              "      fill: #1967D2;\n",
              "      height: 32px;\n",
              "      padding: 0 0 0 0;\n",
              "      width: 32px;\n",
              "    }\n",
              "\n",
              "    .colab-df-convert:hover {\n",
              "      background-color: #E2EBFA;\n",
              "      box-shadow: 0px 1px 2px rgba(60, 64, 67, 0.3), 0px 1px 3px 1px rgba(60, 64, 67, 0.15);\n",
              "      fill: #174EA6;\n",
              "    }\n",
              "\n",
              "    .colab-df-buttons div {\n",
              "      margin-bottom: 4px;\n",
              "    }\n",
              "\n",
              "    [theme=dark] .colab-df-convert {\n",
              "      background-color: #3B4455;\n",
              "      fill: #D2E3FC;\n",
              "    }\n",
              "\n",
              "    [theme=dark] .colab-df-convert:hover {\n",
              "      background-color: #434B5C;\n",
              "      box-shadow: 0px 1px 3px 1px rgba(0, 0, 0, 0.15);\n",
              "      filter: drop-shadow(0px 1px 2px rgba(0, 0, 0, 0.3));\n",
              "      fill: #FFFFFF;\n",
              "    }\n",
              "  </style>\n",
              "\n",
              "    <script>\n",
              "      const buttonEl =\n",
              "        document.querySelector('#df-0fe1122f-96aa-4250-83a6-6e2acfdd92dc button.colab-df-convert');\n",
              "      buttonEl.style.display =\n",
              "        google.colab.kernel.accessAllowed ? 'block' : 'none';\n",
              "\n",
              "      async function convertToInteractive(key) {\n",
              "        const element = document.querySelector('#df-0fe1122f-96aa-4250-83a6-6e2acfdd92dc');\n",
              "        const dataTable =\n",
              "          await google.colab.kernel.invokeFunction('convertToInteractive',\n",
              "                                                    [key], {});\n",
              "        if (!dataTable) return;\n",
              "\n",
              "        const docLinkHtml = 'Like what you see? Visit the ' +\n",
              "          '<a target=\"_blank\" href=https://colab.research.google.com/notebooks/data_table.ipynb>data table notebook</a>'\n",
              "          + ' to learn more about interactive tables.';\n",
              "        element.innerHTML = '';\n",
              "        dataTable['output_type'] = 'display_data';\n",
              "        await google.colab.output.renderOutput(dataTable, element);\n",
              "        const docLink = document.createElement('div');\n",
              "        docLink.innerHTML = docLinkHtml;\n",
              "        element.appendChild(docLink);\n",
              "      }\n",
              "    </script>\n",
              "  </div>\n",
              "\n",
              "\n",
              "<div id=\"df-08c85fde-08bd-4828-b2b8-4da8cdbe3494\">\n",
              "  <button class=\"colab-df-quickchart\" onclick=\"quickchart('df-08c85fde-08bd-4828-b2b8-4da8cdbe3494')\"\n",
              "            title=\"Suggest charts\"\n",
              "            style=\"display:none;\">\n",
              "\n",
              "<svg xmlns=\"http://www.w3.org/2000/svg\" height=\"24px\"viewBox=\"0 0 24 24\"\n",
              "     width=\"24px\">\n",
              "    <g>\n",
              "        <path d=\"M19 3H5c-1.1 0-2 .9-2 2v14c0 1.1.9 2 2 2h14c1.1 0 2-.9 2-2V5c0-1.1-.9-2-2-2zM9 17H7v-7h2v7zm4 0h-2V7h2v10zm4 0h-2v-4h2v4z\"/>\n",
              "    </g>\n",
              "</svg>\n",
              "  </button>\n",
              "\n",
              "<style>\n",
              "  .colab-df-quickchart {\n",
              "      --bg-color: #E8F0FE;\n",
              "      --fill-color: #1967D2;\n",
              "      --hover-bg-color: #E2EBFA;\n",
              "      --hover-fill-color: #174EA6;\n",
              "      --disabled-fill-color: #AAA;\n",
              "      --disabled-bg-color: #DDD;\n",
              "  }\n",
              "\n",
              "  [theme=dark] .colab-df-quickchart {\n",
              "      --bg-color: #3B4455;\n",
              "      --fill-color: #D2E3FC;\n",
              "      --hover-bg-color: #434B5C;\n",
              "      --hover-fill-color: #FFFFFF;\n",
              "      --disabled-bg-color: #3B4455;\n",
              "      --disabled-fill-color: #666;\n",
              "  }\n",
              "\n",
              "  .colab-df-quickchart {\n",
              "    background-color: var(--bg-color);\n",
              "    border: none;\n",
              "    border-radius: 50%;\n",
              "    cursor: pointer;\n",
              "    display: none;\n",
              "    fill: var(--fill-color);\n",
              "    height: 32px;\n",
              "    padding: 0;\n",
              "    width: 32px;\n",
              "  }\n",
              "\n",
              "  .colab-df-quickchart:hover {\n",
              "    background-color: var(--hover-bg-color);\n",
              "    box-shadow: 0 1px 2px rgba(60, 64, 67, 0.3), 0 1px 3px 1px rgba(60, 64, 67, 0.15);\n",
              "    fill: var(--button-hover-fill-color);\n",
              "  }\n",
              "\n",
              "  .colab-df-quickchart-complete:disabled,\n",
              "  .colab-df-quickchart-complete:disabled:hover {\n",
              "    background-color: var(--disabled-bg-color);\n",
              "    fill: var(--disabled-fill-color);\n",
              "    box-shadow: none;\n",
              "  }\n",
              "\n",
              "  .colab-df-spinner {\n",
              "    border: 2px solid var(--fill-color);\n",
              "    border-color: transparent;\n",
              "    border-bottom-color: var(--fill-color);\n",
              "    animation:\n",
              "      spin 1s steps(1) infinite;\n",
              "  }\n",
              "\n",
              "  @keyframes spin {\n",
              "    0% {\n",
              "      border-color: transparent;\n",
              "      border-bottom-color: var(--fill-color);\n",
              "      border-left-color: var(--fill-color);\n",
              "    }\n",
              "    20% {\n",
              "      border-color: transparent;\n",
              "      border-left-color: var(--fill-color);\n",
              "      border-top-color: var(--fill-color);\n",
              "    }\n",
              "    30% {\n",
              "      border-color: transparent;\n",
              "      border-left-color: var(--fill-color);\n",
              "      border-top-color: var(--fill-color);\n",
              "      border-right-color: var(--fill-color);\n",
              "    }\n",
              "    40% {\n",
              "      border-color: transparent;\n",
              "      border-right-color: var(--fill-color);\n",
              "      border-top-color: var(--fill-color);\n",
              "    }\n",
              "    60% {\n",
              "      border-color: transparent;\n",
              "      border-right-color: var(--fill-color);\n",
              "    }\n",
              "    80% {\n",
              "      border-color: transparent;\n",
              "      border-right-color: var(--fill-color);\n",
              "      border-bottom-color: var(--fill-color);\n",
              "    }\n",
              "    90% {\n",
              "      border-color: transparent;\n",
              "      border-bottom-color: var(--fill-color);\n",
              "    }\n",
              "  }\n",
              "</style>\n",
              "\n",
              "  <script>\n",
              "    async function quickchart(key) {\n",
              "      const quickchartButtonEl =\n",
              "        document.querySelector('#' + key + ' button');\n",
              "      quickchartButtonEl.disabled = true;  // To prevent multiple clicks.\n",
              "      quickchartButtonEl.classList.add('colab-df-spinner');\n",
              "      try {\n",
              "        const charts = await google.colab.kernel.invokeFunction(\n",
              "            'suggestCharts', [key], {});\n",
              "      } catch (error) {\n",
              "        console.error('Error during call to suggestCharts:', error);\n",
              "      }\n",
              "      quickchartButtonEl.classList.remove('colab-df-spinner');\n",
              "      quickchartButtonEl.classList.add('colab-df-quickchart-complete');\n",
              "    }\n",
              "    (() => {\n",
              "      let quickchartButtonEl =\n",
              "        document.querySelector('#df-08c85fde-08bd-4828-b2b8-4da8cdbe3494 button');\n",
              "      quickchartButtonEl.style.display =\n",
              "        google.colab.kernel.accessAllowed ? 'block' : 'none';\n",
              "    })();\n",
              "  </script>\n",
              "</div>\n",
              "    </div>\n",
              "  </div>\n"
            ],
            "application/vnd.google.colaboratory.intrinsic+json": {
              "type": "dataframe",
              "variable_name": "transactions"
            }
          },
          "metadata": {},
          "execution_count": 4
        }
      ],
      "source": [
        "# Normalize the columns using a Min-Max Scaling\n",
        "scaler = MinMaxScaler()\n",
        "columns = list(transactions.columns)\n",
        "for column in columns:\n",
        "    transactions[column] = scaler.fit_transform(transactions[column].values.reshape(-1, 1))\n",
        "transactions.head()"
      ]
    },
    {
      "cell_type": "markdown",
      "metadata": {
        "id": "ed7BNs_WjTzk"
      },
      "source": [
        "### AutoEncoders"
      ]
    },
    {
      "cell_type": "markdown",
      "metadata": {
        "id": "jOl8f_I_jTzk"
      },
      "source": [
        "#### Training and Testing Data Preparation"
      ]
    },
    {
      "cell_type": "code",
      "execution_count": 5,
      "metadata": {
        "id": "95foNihUjTzk"
      },
      "outputs": [],
      "source": [
        "# Split the Dataset into Training and Testing Data\n",
        "X_train = transactions[transactions['Class'] == 0].drop('Class', axis = 1)\n",
        "y_train = transactions[transactions['Class'] == 0].Class\n",
        "X_test = transactions[transactions['Class'] == 1].drop('Class', axis = 1)\n",
        "y_test = transactions[transactions['Class'] == 1].Class"
      ]
    },
    {
      "cell_type": "markdown",
      "metadata": {
        "id": "8-KtVMs3jTzk"
      },
      "source": [
        "#### Build the Autoencoder Model Architecture"
      ]
    },
    {
      "cell_type": "code",
      "execution_count": 6,
      "metadata": {
        "colab": {
          "base_uri": "https://localhost:8080/"
        },
        "id": "xtKHBeHSjTzl",
        "outputId": "b4d4738b-9b23-4c10-ab04-43bcc629518b"
      },
      "outputs": [
        {
          "output_type": "stream",
          "name": "stdout",
          "text": [
            "Model: \"sequential\"\n",
            "_________________________________________________________________\n",
            " Layer (type)                Output Shape              Param #   \n",
            "=================================================================\n",
            " dense (Dense)               (None, 10)                310       \n",
            "                                                                 \n",
            " dense_1 (Dense)             (None, 5)                 55        \n",
            "                                                                 \n",
            " dense_2 (Dense)             (None, 2)                 12        \n",
            "                                                                 \n",
            " dense_3 (Dense)             (None, 5)                 15        \n",
            "                                                                 \n",
            " dense_4 (Dense)             (None, 10)                60        \n",
            "                                                                 \n",
            " dense_5 (Dense)             (None, 30)                330       \n",
            "                                                                 \n",
            "=================================================================\n",
            "Total params: 782 (3.05 KB)\n",
            "Trainable params: 782 (3.05 KB)\n",
            "Non-trainable params: 0 (0.00 Byte)\n",
            "_________________________________________________________________\n"
          ]
        }
      ],
      "source": [
        "# Build the autoencoder model in (30-10-5-2-5-10-30) architecture\n",
        "features = X_train.shape[1]\n",
        "model = tf.keras.Sequential([\n",
        "  tf.keras.Input(shape = (features, )),\n",
        "  tf.keras.layers.Dense(10, activation = 'relu'),\n",
        "  tf.keras.layers.Dense(5, activation = 'relu'),\n",
        "  tf.keras.layers.Dense(2, activation = 'relu'),\n",
        "  tf.keras.layers.Dense(5, activation = 'relu'),\n",
        "  tf.keras.layers.Dense(10, activation = 'relu'),\n",
        "  tf.keras.layers.Dense(features, activation = 'sigmoid')\n",
        "])\n",
        "\n",
        "# Compile the model and print the summary\n",
        "model.compile(optimizer='adam', loss = 'mse')\n",
        "model.summary()"
      ]
    },
    {
      "cell_type": "markdown",
      "metadata": {
        "id": "mLTbL6R-jTzl"
      },
      "source": [
        "#### Train the Autoencoder Model"
      ]
    },
    {
      "cell_type": "code",
      "execution_count": 7,
      "metadata": {
        "colab": {
          "base_uri": "https://localhost:8080/"
        },
        "id": "GAhIcHAYjTzl",
        "outputId": "27833502-0a0b-4657-b773-62bf9cf5d04c"
      },
      "outputs": [
        {
          "output_type": "stream",
          "name": "stdout",
          "text": [
            "Epoch 1/100\n",
            "445/445 [==============================] - 8s 11ms/step - loss: 0.0182 - val_loss: 0.0094\n",
            "Epoch 2/100\n",
            "445/445 [==============================] - 4s 10ms/step - loss: 0.0036 - val_loss: 0.0086\n",
            "Epoch 3/100\n",
            "445/445 [==============================] - 6s 12ms/step - loss: 0.0034 - val_loss: 0.0085\n",
            "Epoch 4/100\n",
            "445/445 [==============================] - 3s 6ms/step - loss: 0.0034 - val_loss: 0.0084\n",
            "Epoch 5/100\n",
            "445/445 [==============================] - 2s 5ms/step - loss: 0.0034 - val_loss: 0.0085\n",
            "Epoch 6/100\n",
            "445/445 [==============================] - 3s 7ms/step - loss: 0.0034 - val_loss: 0.0085\n",
            "Epoch 7/100\n",
            "445/445 [==============================] - 3s 7ms/step - loss: 0.0034 - val_loss: 0.0085\n",
            "Epoch 8/100\n",
            "445/445 [==============================] - 3s 7ms/step - loss: 0.0034 - val_loss: 0.0085\n",
            "Epoch 9/100\n",
            "445/445 [==============================] - 1s 3ms/step - loss: 0.0034 - val_loss: 0.0085\n",
            "Epoch 10/100\n",
            "445/445 [==============================] - 1s 3ms/step - loss: 0.0034 - val_loss: 0.0086\n",
            "Epoch 11/100\n",
            "445/445 [==============================] - 1s 3ms/step - loss: 0.0034 - val_loss: 0.0085\n",
            "Epoch 12/100\n",
            "445/445 [==============================] - 1s 3ms/step - loss: 0.0034 - val_loss: 0.0086\n",
            "Epoch 13/100\n",
            "445/445 [==============================] - 1s 3ms/step - loss: 0.0034 - val_loss: 0.0085\n",
            "Epoch 14/100\n",
            "445/445 [==============================] - 1s 3ms/step - loss: 0.0034 - val_loss: 0.0086\n",
            "Epoch 15/100\n",
            "445/445 [==============================] - 1s 3ms/step - loss: 0.0034 - val_loss: 0.0086\n",
            "Epoch 16/100\n",
            "445/445 [==============================] - 2s 5ms/step - loss: 0.0034 - val_loss: 0.0085\n",
            "Epoch 17/100\n",
            "445/445 [==============================] - 2s 4ms/step - loss: 0.0034 - val_loss: 0.0084\n",
            "Epoch 18/100\n",
            "445/445 [==============================] - 1s 3ms/step - loss: 0.0034 - val_loss: 0.0086\n",
            "Epoch 19/100\n",
            "445/445 [==============================] - 1s 3ms/step - loss: 0.0034 - val_loss: 0.0085\n",
            "Epoch 20/100\n",
            "445/445 [==============================] - 1s 3ms/step - loss: 0.0034 - val_loss: 0.0085\n",
            "Epoch 21/100\n",
            "445/445 [==============================] - 1s 3ms/step - loss: 0.0020 - val_loss: 0.0018\n",
            "Epoch 22/100\n",
            "445/445 [==============================] - 1s 3ms/step - loss: 0.0016 - val_loss: 0.0018\n",
            "Epoch 23/100\n",
            "445/445 [==============================] - 1s 2ms/step - loss: 0.0016 - val_loss: 0.0018\n",
            "Epoch 24/100\n",
            "445/445 [==============================] - 1s 3ms/step - loss: 0.0016 - val_loss: 0.0019\n",
            "Epoch 25/100\n",
            "445/445 [==============================] - 1s 3ms/step - loss: 0.0016 - val_loss: 0.0018\n",
            "Epoch 26/100\n",
            "445/445 [==============================] - 2s 4ms/step - loss: 0.0016 - val_loss: 0.0018\n",
            "Epoch 27/100\n",
            "445/445 [==============================] - 2s 4ms/step - loss: 0.0016 - val_loss: 0.0018\n",
            "Epoch 28/100\n",
            "445/445 [==============================] - 2s 4ms/step - loss: 0.0016 - val_loss: 0.0018\n",
            "Epoch 29/100\n",
            "445/445 [==============================] - 2s 3ms/step - loss: 0.0015 - val_loss: 0.0018\n",
            "Epoch 30/100\n",
            "445/445 [==============================] - 1s 3ms/step - loss: 0.0015 - val_loss: 0.0018\n",
            "Epoch 31/100\n",
            "445/445 [==============================] - 1s 3ms/step - loss: 0.0015 - val_loss: 0.0018\n",
            "Epoch 32/100\n",
            "445/445 [==============================] - 1s 3ms/step - loss: 0.0015 - val_loss: 0.0018\n",
            "Epoch 33/100\n",
            "445/445 [==============================] - 1s 3ms/step - loss: 0.0015 - val_loss: 0.0018\n",
            "Epoch 34/100\n",
            "445/445 [==============================] - 1s 3ms/step - loss: 0.0015 - val_loss: 0.0018\n",
            "Epoch 35/100\n",
            "445/445 [==============================] - 1s 3ms/step - loss: 0.0015 - val_loss: 0.0018\n",
            "Epoch 36/100\n",
            "445/445 [==============================] - 2s 4ms/step - loss: 0.0015 - val_loss: 0.0018\n",
            "Epoch 37/100\n",
            "445/445 [==============================] - 2s 4ms/step - loss: 0.0015 - val_loss: 0.0018\n",
            "Epoch 38/100\n",
            "445/445 [==============================] - 1s 3ms/step - loss: 0.0015 - val_loss: 0.0018\n",
            "Epoch 39/100\n",
            "445/445 [==============================] - 1s 3ms/step - loss: 0.0015 - val_loss: 0.0018\n",
            "Epoch 40/100\n",
            "445/445 [==============================] - 1s 3ms/step - loss: 0.0015 - val_loss: 0.0018\n",
            "Epoch 41/100\n",
            "445/445 [==============================] - 2s 3ms/step - loss: 0.0015 - val_loss: 0.0018\n",
            "Epoch 42/100\n",
            "445/445 [==============================] - 1s 3ms/step - loss: 0.0015 - val_loss: 0.0018\n",
            "Epoch 43/100\n",
            "445/445 [==============================] - 1s 3ms/step - loss: 0.0015 - val_loss: 0.0018\n",
            "Epoch 44/100\n",
            "445/445 [==============================] - 1s 3ms/step - loss: 0.0015 - val_loss: 0.0018\n",
            "Epoch 45/100\n",
            "445/445 [==============================] - 2s 3ms/step - loss: 0.0015 - val_loss: 0.0018\n",
            "Epoch 46/100\n",
            "445/445 [==============================] - 2s 5ms/step - loss: 0.0015 - val_loss: 0.0018\n",
            "Epoch 47/100\n",
            "445/445 [==============================] - 2s 4ms/step - loss: 0.0015 - val_loss: 0.0018\n",
            "Epoch 48/100\n",
            "445/445 [==============================] - 2s 4ms/step - loss: 0.0015 - val_loss: 0.0018\n",
            "Epoch 49/100\n",
            "445/445 [==============================] - 2s 3ms/step - loss: 0.0015 - val_loss: 0.0018\n",
            "Epoch 50/100\n",
            "445/445 [==============================] - 2s 4ms/step - loss: 0.0015 - val_loss: 0.0018\n",
            "Epoch 51/100\n",
            "445/445 [==============================] - 2s 3ms/step - loss: 0.0015 - val_loss: 0.0018\n",
            "Epoch 52/100\n",
            "445/445 [==============================] - 1s 3ms/step - loss: 0.0015 - val_loss: 0.0018\n",
            "Epoch 53/100\n",
            "445/445 [==============================] - 2s 4ms/step - loss: 0.0015 - val_loss: 0.0018\n",
            "Epoch 54/100\n",
            "445/445 [==============================] - 2s 4ms/step - loss: 0.0015 - val_loss: 0.0018\n",
            "Epoch 55/100\n",
            "445/445 [==============================] - 2s 5ms/step - loss: 0.0015 - val_loss: 0.0018\n",
            "Epoch 56/100\n",
            "445/445 [==============================] - 1s 3ms/step - loss: 0.0015 - val_loss: 0.0018\n",
            "Epoch 57/100\n",
            "445/445 [==============================] - 1s 2ms/step - loss: 0.0015 - val_loss: 0.0018\n",
            "Epoch 58/100\n",
            "445/445 [==============================] - 1s 3ms/step - loss: 0.0015 - val_loss: 0.0018\n",
            "Epoch 59/100\n",
            "445/445 [==============================] - 1s 2ms/step - loss: 0.0015 - val_loss: 0.0018\n",
            "Epoch 60/100\n",
            "445/445 [==============================] - 1s 2ms/step - loss: 0.0015 - val_loss: 0.0018\n",
            "Epoch 61/100\n",
            "445/445 [==============================] - 1s 3ms/step - loss: 0.0015 - val_loss: 0.0018\n",
            "Epoch 62/100\n",
            "445/445 [==============================] - 1s 3ms/step - loss: 0.0015 - val_loss: 0.0018\n",
            "Epoch 63/100\n",
            "445/445 [==============================] - 2s 4ms/step - loss: 0.0015 - val_loss: 0.0018\n",
            "Epoch 64/100\n",
            "445/445 [==============================] - 2s 5ms/step - loss: 0.0015 - val_loss: 0.0018\n",
            "Epoch 65/100\n",
            "445/445 [==============================] - 2s 3ms/step - loss: 0.0015 - val_loss: 0.0018\n",
            "Epoch 66/100\n",
            "445/445 [==============================] - 1s 3ms/step - loss: 0.0015 - val_loss: 0.0018\n",
            "Epoch 67/100\n",
            "445/445 [==============================] - 1s 3ms/step - loss: 0.0015 - val_loss: 0.0018\n",
            "Epoch 68/100\n",
            "445/445 [==============================] - 2s 3ms/step - loss: 0.0015 - val_loss: 0.0018\n",
            "Epoch 69/100\n",
            "445/445 [==============================] - 1s 3ms/step - loss: 0.0015 - val_loss: 0.0018\n",
            "Epoch 70/100\n",
            "445/445 [==============================] - 1s 3ms/step - loss: 0.0015 - val_loss: 0.0018\n",
            "Epoch 71/100\n",
            "445/445 [==============================] - 1s 3ms/step - loss: 0.0015 - val_loss: 0.0018\n",
            "Epoch 72/100\n",
            "445/445 [==============================] - 1s 2ms/step - loss: 0.0015 - val_loss: 0.0018\n",
            "Epoch 73/100\n",
            "445/445 [==============================] - 2s 4ms/step - loss: 0.0015 - val_loss: 0.0018\n",
            "Epoch 74/100\n",
            "445/445 [==============================] - 2s 5ms/step - loss: 0.0015 - val_loss: 0.0018\n",
            "Epoch 75/100\n",
            "445/445 [==============================] - 1s 2ms/step - loss: 0.0015 - val_loss: 0.0018\n",
            "Epoch 76/100\n",
            "445/445 [==============================] - 1s 3ms/step - loss: 0.0015 - val_loss: 0.0018\n",
            "Epoch 77/100\n",
            "445/445 [==============================] - 1s 3ms/step - loss: 0.0015 - val_loss: 0.0018\n",
            "Epoch 78/100\n",
            "445/445 [==============================] - 1s 3ms/step - loss: 0.0015 - val_loss: 0.0018\n",
            "Epoch 79/100\n",
            "445/445 [==============================] - 1s 3ms/step - loss: 0.0015 - val_loss: 0.0018\n",
            "Epoch 80/100\n",
            "445/445 [==============================] - 1s 3ms/step - loss: 0.0015 - val_loss: 0.0018\n",
            "Epoch 81/100\n",
            "445/445 [==============================] - 1s 3ms/step - loss: 0.0015 - val_loss: 0.0018\n",
            "Epoch 82/100\n",
            "445/445 [==============================] - 2s 4ms/step - loss: 0.0015 - val_loss: 0.0018\n",
            "Epoch 83/100\n",
            "445/445 [==============================] - 2s 4ms/step - loss: 0.0015 - val_loss: 0.0018\n",
            "Epoch 84/100\n",
            "445/445 [==============================] - 2s 4ms/step - loss: 0.0015 - val_loss: 0.0018\n",
            "Epoch 85/100\n",
            "445/445 [==============================] - 2s 5ms/step - loss: 0.0015 - val_loss: 0.0018\n",
            "Epoch 86/100\n",
            "445/445 [==============================] - 3s 6ms/step - loss: 0.0015 - val_loss: 0.0018\n",
            "Epoch 87/100\n",
            "445/445 [==============================] - 1s 3ms/step - loss: 0.0015 - val_loss: 0.0018\n",
            "Epoch 88/100\n",
            "445/445 [==============================] - 1s 3ms/step - loss: 0.0015 - val_loss: 0.0018\n",
            "Epoch 89/100\n",
            "445/445 [==============================] - 2s 4ms/step - loss: 0.0015 - val_loss: 0.0018\n",
            "Epoch 90/100\n",
            "445/445 [==============================] - 2s 4ms/step - loss: 0.0015 - val_loss: 0.0018\n",
            "Epoch 91/100\n",
            "445/445 [==============================] - 3s 7ms/step - loss: 0.0015 - val_loss: 0.0018\n",
            "Epoch 92/100\n",
            "445/445 [==============================] - 1s 3ms/step - loss: 0.0015 - val_loss: 0.0018\n",
            "Epoch 93/100\n",
            "445/445 [==============================] - 1s 2ms/step - loss: 0.0015 - val_loss: 0.0018\n",
            "Epoch 94/100\n",
            "445/445 [==============================] - 1s 2ms/step - loss: 0.0015 - val_loss: 0.0018\n",
            "Epoch 95/100\n",
            "445/445 [==============================] - 1s 3ms/step - loss: 0.0015 - val_loss: 0.0018\n",
            "Epoch 96/100\n",
            "445/445 [==============================] - 1s 3ms/step - loss: 0.0015 - val_loss: 0.0018\n",
            "Epoch 97/100\n",
            "445/445 [==============================] - 1s 3ms/step - loss: 0.0015 - val_loss: 0.0018\n",
            "Epoch 98/100\n",
            "445/445 [==============================] - 1s 3ms/step - loss: 0.0015 - val_loss: 0.0017\n",
            "Epoch 99/100\n",
            "445/445 [==============================] - 2s 4ms/step - loss: 0.0015 - val_loss: 0.0018\n",
            "Epoch 100/100\n",
            "445/445 [==============================] - 2s 4ms/step - loss: 0.0015 - val_loss: 0.0018\n"
          ]
        },
        {
          "output_type": "execute_result",
          "data": {
            "text/plain": [
              "<keras.src.callbacks.History at 0x782ee730b880>"
            ]
          },
          "metadata": {},
          "execution_count": 7
        }
      ],
      "source": [
        "# Train the Autoencoder Model on Legitimate Transactions\n",
        "model.fit(X_train, X_train, epochs = 100, batch_size = 512, validation_split = 0.2)"
      ]
    },
    {
      "cell_type": "markdown",
      "metadata": {
        "id": "4B-sq_fyC7gR"
      },
      "source": [
        "#### Use the learnt Latent Representations on a Logistic Regression model"
      ]
    },
    {
      "cell_type": "code",
      "execution_count": 8,
      "metadata": {
        "id": "OcnAJFuFz1Mu",
        "colab": {
          "base_uri": "https://localhost:8080/"
        },
        "outputId": "4681e752-2497-4681-9c6b-2d2bca66c33f"
      },
      "outputs": [
        {
          "output_type": "stream",
          "name": "stdout",
          "text": [
            "16/16 [==============================] - 0s 2ms/step\n",
            "16/16 [==============================] - 0s 2ms/step\n"
          ]
        }
      ],
      "source": [
        "# Reconstruct the Training and Testing data\n",
        "X_validate = X_train[:500]\n",
        "encoded_train = model.predict(X_validate)\n",
        "encoded_test = model.predict(X_test)"
      ]
    },
    {
      "cell_type": "code",
      "source": [
        "train_diff = np.sum((encoded_train - X_validate)**2, axis = 1)\n",
        "threshold = train_diff.mean()"
      ],
      "metadata": {
        "id": "wj7Pn4w95_pQ"
      },
      "execution_count": 9,
      "outputs": []
    },
    {
      "cell_type": "code",
      "source": [
        "test_diff = np.sum(((encoded_test - X_test)**2), axis = 1)\n",
        "y_pred = (test_diff > threshold).astype(int)"
      ],
      "metadata": {
        "id": "6-1GLVdPIhjF"
      },
      "execution_count": 10,
      "outputs": []
    },
    {
      "cell_type": "markdown",
      "metadata": {
        "id": "ZhtRRTtfjTzm"
      },
      "source": [
        "#### Result Metrics Computation"
      ]
    },
    {
      "cell_type": "code",
      "execution_count": 11,
      "metadata": {
        "id": "SinCEQfyjTzm",
        "colab": {
          "base_uri": "https://localhost:8080/"
        },
        "outputId": "b94610e2-dbba-4f96-bfda-7487d2c17146"
      },
      "outputs": [
        {
          "output_type": "stream",
          "name": "stdout",
          "text": [
            "Accuracy Score:0.9410569105691057\n",
            "Precision Score:1.0\n",
            "Recall Score:0.9410569105691057\n",
            "F1 Score:0.9696335078534032\n"
          ]
        }
      ],
      "source": [
        "# Compute and print the Accuracy, Precision, Recall and F1-Score\n",
        "print('Accuracy Score:{}'.format(accuracy_score(y_test, y_pred)))\n",
        "print('Precision Score:{}'.format(precision_score(y_test, y_pred)))\n",
        "print('Recall Score:{}'.format(recall_score(y_test, y_pred)))\n",
        "print('F1 Score:{}'.format(f1_score(y_test, y_pred)))\n",
        "ae_scores = [accuracy_score(y_test, y_pred), f1_score(y_test, y_pred)]"
      ]
    },
    {
      "cell_type": "markdown",
      "metadata": {
        "id": "qjPkn45bC7gS"
      },
      "source": [
        "#### Summary:"
      ]
    },
    {
      "cell_type": "markdown",
      "metadata": {
        "id": "UaC7z0cpC7gS"
      },
      "source": [
        "- We trained the AutoEncoder Model to learn the latent representations of the legitimate transaction features.\n",
        "- Then we sampled the first 500 legitimate transactions and reconstructed them. The average reconstruction error of these 500 data points was taken as the threshold.\n",
        "- The results section above summarizes the performance of the AutoEncoder model on the Testing data, i.e., the fraudulent transactions.\n",
        "- With accuracy above 90%, the autoencoder model is able to distinguish between Fraudulent and Legitimate transactions on the basis of reconstruction error."
      ]
    },
    {
      "cell_type": "markdown",
      "metadata": {
        "id": "1CdEdX92jTzm"
      },
      "source": [
        "### Variational Autoencoder (VAE)"
      ]
    },
    {
      "cell_type": "markdown",
      "metadata": {
        "id": "h9saQAprJ_En"
      },
      "source": [
        "#### Training and Testing Data Preparation"
      ]
    },
    {
      "cell_type": "code",
      "execution_count": 12,
      "metadata": {
        "id": "nLS7KYCtJpMa"
      },
      "outputs": [],
      "source": [
        "# Split the Dataset into Training and Testing Data\n",
        "X_train_vae = transactions[transactions['Class'] == 0].drop('Class', axis = 1)\n",
        "y_train_vae = transactions[transactions['Class'] == 0].Class\n",
        "X_test_vae = transactions[transactions['Class'] == 1].drop('Class', axis = 1)\n",
        "y_test_vae = transactions[transactions['Class'] == 1].Class"
      ]
    },
    {
      "cell_type": "markdown",
      "metadata": {
        "id": "vuq2BUQNjTzn"
      },
      "source": [
        "#### Build the Variational Autoencoder Model Architecture"
      ]
    },
    {
      "cell_type": "code",
      "execution_count": 13,
      "metadata": {
        "id": "W0WIreDvJvtN"
      },
      "outputs": [],
      "source": [
        "latent_dim = 2\n",
        "\n",
        "# Define encoder model\n",
        "encoder_inputs = tf.keras.Input(shape=(X_train_vae.shape[1],))\n",
        "layer1 = tf.keras.layers.Dense(10, activation='relu')(encoder_inputs)\n",
        "layer2 = tf.keras.layers.Dense(5, activation='relu')(layer1)\n",
        "z_mean = tf.keras.layers.Dense(latent_dim)(layer2)\n",
        "z_log_var = tf.keras.layers.Dense(latent_dim)(layer2)"
      ]
    },
    {
      "cell_type": "code",
      "execution_count": 14,
      "metadata": {
        "id": "i9JPAf-gLju5"
      },
      "outputs": [],
      "source": [
        "# Reparameterization function\n",
        "def sampling(args):\n",
        "    z_mean, z_log_var = args\n",
        "    epsilon = tf.keras.backend.random_normal(shape=(tf.keras.backend.shape(z_mean)[0], latent_dim))\n",
        "    return z_mean + tf.keras.backend.exp(0.5 * z_log_var) * epsilon\n",
        "\n",
        "z = tf.keras.layers.Lambda(sampling)([z_mean, z_log_var])"
      ]
    },
    {
      "cell_type": "code",
      "execution_count": 15,
      "metadata": {
        "id": "2enAd9vMLifS"
      },
      "outputs": [],
      "source": [
        "# Define decoder model\n",
        "decoder_inputs = tf.keras.layers.Input(shape=(latent_dim,))\n",
        "layer3 = tf.keras.layers.Dense(5, activation='relu')(decoder_inputs)\n",
        "layer4 = tf.keras.layers.Dense(10, activation='relu')(layer3)\n",
        "outputs = tf.keras.layers.Dense(X_train_vae.shape[1], activation='sigmoid')(layer4)"
      ]
    },
    {
      "cell_type": "code",
      "execution_count": 16,
      "metadata": {
        "id": "Huwg1Ll1Lgqk"
      },
      "outputs": [],
      "source": [
        "# Define VAE model\n",
        "encoder = tf.keras.Model(encoder_inputs, [z_mean, z_log_var, z], name='encoder')\n",
        "decoder = tf.keras.Model(decoder_inputs, outputs, name='decoder')\n",
        "outputs = decoder(encoder(encoder_inputs)[2])\n",
        "model_vae = tf.keras.Model(encoder_inputs, outputs, name='vae')"
      ]
    },
    {
      "cell_type": "code",
      "source": [
        "reconstruction_loss = tf.keras.losses.mean_squared_error(encoder_inputs, outputs)\n",
        "reconstruction_loss *= X_train_vae.shape[1]\n",
        "kl_loss = 1 + z_log_var - tf.keras.backend.square(z)\n",
        "kl_loss = tf.keras.backend.sum(kl_loss, axis = -1)\n",
        "kl_loss *= -0.5\n",
        "vae_loss = tf.keras.backend.mean(reconstruction_loss + kl_loss)\n",
        "model_vae.add_loss(vae_loss)"
      ],
      "metadata": {
        "id": "C2r_NiyzMYa-"
      },
      "execution_count": 17,
      "outputs": []
    },
    {
      "cell_type": "markdown",
      "metadata": {
        "id": "TzJ_t0SKjTzn"
      },
      "source": [
        "#### Train the Variational Autoencoder Model"
      ]
    },
    {
      "cell_type": "code",
      "execution_count": 18,
      "metadata": {
        "id": "o4frUbhMJ7g_",
        "colab": {
          "base_uri": "https://localhost:8080/"
        },
        "outputId": "d2ec71aa-1708-44c7-ce5c-e968ec8bbffc"
      },
      "outputs": [
        {
          "output_type": "stream",
          "name": "stdout",
          "text": [
            "Epoch 1/100\n",
            "445/445 [==============================] - 3s 4ms/step - loss: 0.4132 - val_loss: 0.2758\n",
            "Epoch 2/100\n",
            "445/445 [==============================] - 2s 4ms/step - loss: 0.1112 - val_loss: 0.2550\n",
            "Epoch 3/100\n",
            "445/445 [==============================] - 2s 5ms/step - loss: 0.1026 - val_loss: 0.2541\n",
            "Epoch 4/100\n",
            "445/445 [==============================] - 2s 5ms/step - loss: 0.1052 - val_loss: 0.2577\n",
            "Epoch 5/100\n",
            "445/445 [==============================] - 3s 6ms/step - loss: 0.1046 - val_loss: 0.2634\n",
            "Epoch 6/100\n",
            "445/445 [==============================] - 3s 7ms/step - loss: 0.1037 - val_loss: 0.2506\n",
            "Epoch 7/100\n",
            "445/445 [==============================] - 1s 3ms/step - loss: 0.1006 - val_loss: 0.2481\n",
            "Epoch 8/100\n",
            "445/445 [==============================] - 1s 3ms/step - loss: 0.0982 - val_loss: 0.2609\n",
            "Epoch 9/100\n",
            "445/445 [==============================] - 1s 3ms/step - loss: 0.1005 - val_loss: 0.2536\n",
            "Epoch 10/100\n",
            "445/445 [==============================] - 2s 3ms/step - loss: 0.1060 - val_loss: 0.2581\n",
            "Epoch 11/100\n",
            "445/445 [==============================] - 1s 3ms/step - loss: 0.1044 - val_loss: 0.2549\n",
            "Epoch 12/100\n",
            "445/445 [==============================] - 1s 3ms/step - loss: 0.1012 - val_loss: 0.2603\n",
            "Epoch 13/100\n",
            "445/445 [==============================] - 2s 5ms/step - loss: 0.1047 - val_loss: 0.2546\n",
            "Epoch 14/100\n",
            "445/445 [==============================] - 3s 7ms/step - loss: 0.0979 - val_loss: 0.2608\n",
            "Epoch 15/100\n",
            "445/445 [==============================] - 2s 4ms/step - loss: 0.1022 - val_loss: 0.2498\n",
            "Epoch 16/100\n",
            "445/445 [==============================] - 2s 5ms/step - loss: 0.1058 - val_loss: 0.2496\n",
            "Epoch 17/100\n",
            "445/445 [==============================] - 3s 7ms/step - loss: 0.1049 - val_loss: 0.2526\n",
            "Epoch 18/100\n",
            "445/445 [==============================] - 4s 9ms/step - loss: 0.1033 - val_loss: 0.2556\n",
            "Epoch 19/100\n",
            "445/445 [==============================] - 3s 8ms/step - loss: 0.0971 - val_loss: 0.2591\n",
            "Epoch 20/100\n",
            "445/445 [==============================] - 3s 7ms/step - loss: 0.1044 - val_loss: 0.2554\n",
            "Epoch 21/100\n",
            "445/445 [==============================] - 3s 6ms/step - loss: 0.0983 - val_loss: 0.2688\n",
            "Epoch 22/100\n",
            "445/445 [==============================] - 2s 5ms/step - loss: 0.0995 - val_loss: 0.2446\n",
            "Epoch 23/100\n",
            "445/445 [==============================] - 4s 8ms/step - loss: 0.0964 - val_loss: 0.2490\n",
            "Epoch 24/100\n",
            "445/445 [==============================] - 4s 8ms/step - loss: 0.1013 - val_loss: 0.2607\n",
            "Epoch 25/100\n",
            "445/445 [==============================] - 4s 9ms/step - loss: 0.1029 - val_loss: 0.2563\n",
            "Epoch 26/100\n",
            "445/445 [==============================] - 2s 5ms/step - loss: 0.1003 - val_loss: 0.2536\n",
            "Epoch 27/100\n",
            "445/445 [==============================] - 4s 9ms/step - loss: 0.1027 - val_loss: 0.2503\n",
            "Epoch 28/100\n",
            "445/445 [==============================] - 3s 6ms/step - loss: 0.0984 - val_loss: 0.2592\n",
            "Epoch 29/100\n",
            "445/445 [==============================] - 3s 7ms/step - loss: 0.1004 - val_loss: 0.2587\n",
            "Epoch 30/100\n",
            "445/445 [==============================] - 2s 5ms/step - loss: 0.1017 - val_loss: 0.2530\n",
            "Epoch 31/100\n",
            "445/445 [==============================] - 2s 5ms/step - loss: 0.1027 - val_loss: 0.2529\n",
            "Epoch 32/100\n",
            "445/445 [==============================] - 3s 7ms/step - loss: 0.0984 - val_loss: 0.2665\n",
            "Epoch 33/100\n",
            "445/445 [==============================] - 4s 10ms/step - loss: 0.1061 - val_loss: 0.2567\n",
            "Epoch 34/100\n",
            "445/445 [==============================] - 2s 5ms/step - loss: 0.1027 - val_loss: 0.2596\n",
            "Epoch 35/100\n",
            "445/445 [==============================] - 2s 5ms/step - loss: 0.1028 - val_loss: 0.2542\n",
            "Epoch 36/100\n",
            "445/445 [==============================] - 2s 4ms/step - loss: 0.1013 - val_loss: 0.2569\n",
            "Epoch 37/100\n",
            "445/445 [==============================] - 2s 4ms/step - loss: 0.1005 - val_loss: 0.2631\n",
            "Epoch 38/100\n",
            "445/445 [==============================] - 3s 7ms/step - loss: 0.1015 - val_loss: 0.2601\n",
            "Epoch 39/100\n",
            "445/445 [==============================] - 3s 8ms/step - loss: 0.1002 - val_loss: 0.2567\n",
            "Epoch 40/100\n",
            "445/445 [==============================] - 3s 6ms/step - loss: 0.0997 - val_loss: 0.2507\n",
            "Epoch 41/100\n",
            "445/445 [==============================] - 3s 7ms/step - loss: 0.1025 - val_loss: 0.2494\n",
            "Epoch 42/100\n",
            "445/445 [==============================] - 2s 5ms/step - loss: 0.1023 - val_loss: 0.2650\n",
            "Epoch 43/100\n",
            "445/445 [==============================] - 3s 8ms/step - loss: 0.1007 - val_loss: 0.2551\n",
            "Epoch 44/100\n",
            "445/445 [==============================] - 2s 5ms/step - loss: 0.1019 - val_loss: 0.2555\n",
            "Epoch 45/100\n",
            "445/445 [==============================] - 2s 5ms/step - loss: 0.1014 - val_loss: 0.2689\n",
            "Epoch 46/100\n",
            "445/445 [==============================] - 2s 5ms/step - loss: 0.1050 - val_loss: 0.2527\n",
            "Epoch 47/100\n",
            "445/445 [==============================] - 2s 4ms/step - loss: 0.1014 - val_loss: 0.2515\n",
            "Epoch 48/100\n",
            "445/445 [==============================] - 3s 7ms/step - loss: 0.1039 - val_loss: 0.2555\n",
            "Epoch 49/100\n",
            "445/445 [==============================] - 3s 8ms/step - loss: 0.0999 - val_loss: 0.2518\n",
            "Epoch 50/100\n",
            "445/445 [==============================] - 2s 5ms/step - loss: 0.0978 - val_loss: 0.2553\n",
            "Epoch 51/100\n",
            "445/445 [==============================] - 2s 6ms/step - loss: 0.1011 - val_loss: 0.2553\n",
            "Epoch 52/100\n",
            "445/445 [==============================] - 2s 3ms/step - loss: 0.1021 - val_loss: 0.2584\n",
            "Epoch 53/100\n",
            "445/445 [==============================] - 2s 5ms/step - loss: 0.0969 - val_loss: 0.2555\n",
            "Epoch 54/100\n",
            "445/445 [==============================] - 2s 5ms/step - loss: 0.1008 - val_loss: 0.2602\n",
            "Epoch 55/100\n",
            "445/445 [==============================] - 3s 6ms/step - loss: 0.1016 - val_loss: 0.2534\n",
            "Epoch 56/100\n",
            "445/445 [==============================] - 2s 4ms/step - loss: 0.1048 - val_loss: 0.2580\n",
            "Epoch 57/100\n",
            "445/445 [==============================] - 1s 3ms/step - loss: 0.1004 - val_loss: 0.2589\n",
            "Epoch 58/100\n",
            "445/445 [==============================] - 2s 3ms/step - loss: 0.1003 - val_loss: 0.2545\n",
            "Epoch 59/100\n",
            "445/445 [==============================] - 1s 3ms/step - loss: 0.1036 - val_loss: 0.2611\n",
            "Epoch 60/100\n",
            "445/445 [==============================] - 2s 4ms/step - loss: 0.1000 - val_loss: 0.2498\n",
            "Epoch 61/100\n",
            "445/445 [==============================] - 2s 4ms/step - loss: 0.0999 - val_loss: 0.2542\n",
            "Epoch 62/100\n",
            "445/445 [==============================] - 3s 6ms/step - loss: 0.1003 - val_loss: 0.2557\n",
            "Epoch 63/100\n",
            "445/445 [==============================] - 2s 4ms/step - loss: 0.1004 - val_loss: 0.2532\n",
            "Epoch 64/100\n",
            "445/445 [==============================] - 2s 4ms/step - loss: 0.0975 - val_loss: 0.2524\n",
            "Epoch 65/100\n",
            "445/445 [==============================] - 2s 5ms/step - loss: 0.0998 - val_loss: 0.2503\n",
            "Epoch 66/100\n",
            "445/445 [==============================] - 3s 6ms/step - loss: 0.0999 - val_loss: 0.2492\n",
            "Epoch 67/100\n",
            "445/445 [==============================] - 3s 8ms/step - loss: 0.0988 - val_loss: 0.2536\n",
            "Epoch 68/100\n",
            "445/445 [==============================] - 4s 9ms/step - loss: 0.1005 - val_loss: 0.2491\n",
            "Epoch 69/100\n",
            "445/445 [==============================] - 3s 7ms/step - loss: 0.0999 - val_loss: 0.2556\n",
            "Epoch 70/100\n",
            "445/445 [==============================] - 2s 5ms/step - loss: 0.1058 - val_loss: 0.2492\n",
            "Epoch 71/100\n",
            "445/445 [==============================] - 2s 3ms/step - loss: 0.1004 - val_loss: 0.2581\n",
            "Epoch 72/100\n",
            "445/445 [==============================] - 2s 4ms/step - loss: 0.0996 - val_loss: 0.2535\n",
            "Epoch 73/100\n",
            "445/445 [==============================] - 2s 4ms/step - loss: 0.1033 - val_loss: 0.2624\n",
            "Epoch 74/100\n",
            "445/445 [==============================] - 3s 7ms/step - loss: 0.1005 - val_loss: 0.2458\n",
            "Epoch 75/100\n",
            "445/445 [==============================] - 4s 9ms/step - loss: 0.1018 - val_loss: 0.2595\n",
            "Epoch 76/100\n",
            "445/445 [==============================] - 3s 6ms/step - loss: 0.1013 - val_loss: 0.2604\n",
            "Epoch 77/100\n",
            "445/445 [==============================] - 3s 6ms/step - loss: 0.0999 - val_loss: 0.2557\n",
            "Epoch 78/100\n",
            "445/445 [==============================] - 3s 7ms/step - loss: 0.1016 - val_loss: 0.2606\n",
            "Epoch 79/100\n",
            "445/445 [==============================] - 5s 10ms/step - loss: 0.1014 - val_loss: 0.2569\n",
            "Epoch 80/100\n",
            "445/445 [==============================] - 3s 7ms/step - loss: 0.1043 - val_loss: 0.2575\n",
            "Epoch 81/100\n",
            "445/445 [==============================] - 2s 3ms/step - loss: 0.1043 - val_loss: 0.2582\n",
            "Epoch 82/100\n",
            "445/445 [==============================] - 2s 5ms/step - loss: 0.1001 - val_loss: 0.2535\n",
            "Epoch 83/100\n",
            "445/445 [==============================] - 3s 8ms/step - loss: 0.1016 - val_loss: 0.2466\n",
            "Epoch 84/100\n",
            "445/445 [==============================] - 4s 8ms/step - loss: 0.1002 - val_loss: 0.2496\n",
            "Epoch 85/100\n",
            "445/445 [==============================] - 1s 3ms/step - loss: 0.0990 - val_loss: 0.2591\n",
            "Epoch 86/100\n",
            "445/445 [==============================] - 1s 3ms/step - loss: 0.1023 - val_loss: 0.2596\n",
            "Epoch 87/100\n",
            "445/445 [==============================] - 2s 4ms/step - loss: 0.1037 - val_loss: 0.2536\n",
            "Epoch 88/100\n",
            "445/445 [==============================] - 2s 4ms/step - loss: 0.1003 - val_loss: 0.2623\n",
            "Epoch 89/100\n",
            "445/445 [==============================] - 1s 3ms/step - loss: 0.1020 - val_loss: 0.2724\n",
            "Epoch 90/100\n",
            "445/445 [==============================] - 1s 3ms/step - loss: 0.0992 - val_loss: 0.2435\n",
            "Epoch 91/100\n",
            "445/445 [==============================] - 2s 4ms/step - loss: 0.0993 - val_loss: 0.2552\n",
            "Epoch 92/100\n",
            "445/445 [==============================] - 3s 6ms/step - loss: 0.1047 - val_loss: 0.2562\n",
            "Epoch 93/100\n",
            "445/445 [==============================] - 2s 3ms/step - loss: 0.1007 - val_loss: 0.2630\n",
            "Epoch 94/100\n",
            "445/445 [==============================] - 2s 3ms/step - loss: 0.0998 - val_loss: 0.2520\n",
            "Epoch 95/100\n",
            "445/445 [==============================] - 1s 3ms/step - loss: 0.1008 - val_loss: 0.2636\n",
            "Epoch 96/100\n",
            "445/445 [==============================] - 1s 3ms/step - loss: 0.0996 - val_loss: 0.2537\n",
            "Epoch 97/100\n",
            "445/445 [==============================] - 2s 4ms/step - loss: 0.1036 - val_loss: 0.2615\n",
            "Epoch 98/100\n",
            "445/445 [==============================] - 2s 3ms/step - loss: 0.0984 - val_loss: 0.2651\n",
            "Epoch 99/100\n",
            "445/445 [==============================] - 2s 4ms/step - loss: 0.0950 - val_loss: 0.2614\n",
            "Epoch 100/100\n",
            "445/445 [==============================] - 2s 5ms/step - loss: 0.1023 - val_loss: 0.2564\n"
          ]
        },
        {
          "output_type": "execute_result",
          "data": {
            "text/plain": [
              "<keras.src.callbacks.History at 0x782ee51fb190>"
            ]
          },
          "metadata": {},
          "execution_count": 18
        }
      ],
      "source": [
        "model_vae.compile(optimizer='adam')\n",
        "model_vae.fit(X_train_vae, X_train_vae, epochs=100, batch_size=512, validation_split = 0.2)"
      ]
    },
    {
      "cell_type": "markdown",
      "metadata": {
        "id": "79icY98OLrq_"
      },
      "source": [
        "Set the average training error as threshold and reconstruct Fraudulent Transactions"
      ]
    },
    {
      "cell_type": "markdown",
      "metadata": {
        "id": "1cL_zhzMC7gT"
      },
      "source": [
        "#### Use the learnt Latent Representations on a Logistic Regression model"
      ]
    },
    {
      "cell_type": "code",
      "execution_count": 19,
      "metadata": {
        "id": "B4Pc2DbJLefo",
        "colab": {
          "base_uri": "https://localhost:8080/"
        },
        "outputId": "17961bba-5efe-4083-c29c-1d967cedab9e"
      },
      "outputs": [
        {
          "output_type": "stream",
          "name": "stdout",
          "text": [
            "16/16 [==============================] - 0s 2ms/step\n",
            "16/16 [==============================] - 0s 2ms/step\n"
          ]
        }
      ],
      "source": [
        "# Reconstruct the Training and Testing data\n",
        "X_validate_vae = X_train_vae[:500]\n",
        "encoded_train_vae = model.predict(X_validate_vae)\n",
        "encoded_test_vae = model.predict(X_test_vae)"
      ]
    },
    {
      "cell_type": "code",
      "source": [
        "train_diff_vae = np.sum((encoded_train_vae - X_validate_vae)**2, axis = 1)\n",
        "threshold_vae = train_diff_vae.mean()"
      ],
      "metadata": {
        "id": "84cqNbZkKqj0"
      },
      "execution_count": 20,
      "outputs": []
    },
    {
      "cell_type": "code",
      "source": [
        "test_diff_vae = np.sum(((encoded_test_vae - X_test_vae)**2), axis = 1)\n",
        "y_pred_vae = (test_diff_vae > threshold_vae).astype(int)"
      ],
      "metadata": {
        "id": "FEuRPOb8KkFJ"
      },
      "execution_count": 21,
      "outputs": []
    },
    {
      "cell_type": "markdown",
      "metadata": {
        "id": "CShoxeRFL3jP"
      },
      "source": [
        "#### Result Metrics Computation"
      ]
    },
    {
      "cell_type": "code",
      "execution_count": 22,
      "metadata": {
        "id": "66b_iQ52L1ZG",
        "colab": {
          "base_uri": "https://localhost:8080/"
        },
        "outputId": "2f875b8a-7ce4-4b38-a128-5cf7de4c1d36"
      },
      "outputs": [
        {
          "output_type": "stream",
          "name": "stdout",
          "text": [
            "Accuracy Score:0.9410569105691057\n",
            "Precision Score:1.0\n",
            "Recall Score:0.9410569105691057\n",
            "F1 Score:0.9696335078534032\n"
          ]
        }
      ],
      "source": [
        "# Compute and print the Accuracy, Precision, Recall and F1-Score\n",
        "print('Accuracy Score:{}'.format(accuracy_score(y_test_vae, y_pred_vae)))\n",
        "print('Precision Score:{}'.format(precision_score(y_test_vae, y_pred_vae)))\n",
        "print('Recall Score:{}'.format(recall_score(y_test_vae, y_pred_vae)))\n",
        "print('F1 Score:{}'.format(f1_score(y_test_vae, y_pred_vae)))\n",
        "vae_scores = [accuracy_score(y_test_vae, y_pred_vae), f1_score(y_test_vae, y_pred_vae)]"
      ]
    },
    {
      "cell_type": "markdown",
      "metadata": {
        "id": "zSVet_lkC7gb"
      },
      "source": [
        "#### Summary"
      ]
    },
    {
      "cell_type": "markdown",
      "metadata": {
        "id": "5W96gI8LC7gc"
      },
      "source": [
        "- We trained the Variational AutoEncoder Model to learn and model a distribution of the latent representations for all the legitimate transaction features.\n",
        "- Then we sampled the first 500 legitimate transactions and reconstructed them. The average reconstruction error of these 500 data points was taken as the threshold.\n",
        "- The results section above summarizes the performance of the Variational AutoEncoder model on the Testing data, i.e., the fraudulent transactions.\n",
        "- With accuracy above 90%, the variational autoencoder model is able to distinguish between Fraudulent and Legitimate transactions on the basis of reconstruction error.\n",
        "- Also, it is able to model the distribution of the transaction features and sample other transactions from the distribution."
      ]
    },
    {
      "cell_type": "markdown",
      "metadata": {
        "id": "eof32Ph7C7gc"
      },
      "source": [
        "### Performance Comparison of AutoEncoders and Variational AutoEncoders"
      ]
    },
    {
      "cell_type": "markdown",
      "metadata": {
        "id": "Ynwg7bUQC7gc"
      },
      "source": [
        "- The Accuracy and F1-scores for both the models are compared in the below plot.\n",
        "- Both the AutoEncoder and Variational AutoEncoder models show overall equal accuracy, precision and recall scores."
      ]
    },
    {
      "cell_type": "code",
      "source": [
        "# Plot the joint bar plot to compare the training and testing classification costs across the models\n",
        "types = ['Accuracy', 'F1-Score']\n",
        "x = np.arange(len(types))\n",
        "plt.figure(figsize = (5, 5))\n",
        "plt.bar(x - 0.1, ae_scores, width = 0.2, label='AutoEncoder')\n",
        "plt.bar(x + 0.1, vae_scores, width = 0.2, label='Variational AutoEncoder')\n",
        "plt.xticks(x, types)\n",
        "plt.xlabel('Score Type')\n",
        "plt.ylabel('Score')\n",
        "plt.legend()\n",
        "plt.title('Score comparison of AutoEncoder and Variational AutoEncoders')\n",
        "plt.show()"
      ],
      "metadata": {
        "id": "TB6IiAbEEFXv",
        "colab": {
          "base_uri": "https://localhost:8080/",
          "height": 487
        },
        "outputId": "4b6a383d-f3a2-40fc-e2cd-23a86bd870c2"
      },
      "execution_count": 23,
      "outputs": [
        {
          "output_type": "display_data",
          "data": {
            "text/plain": [
              "<Figure size 500x500 with 1 Axes>"
            ],
            "image/png": "[encoded data removed]"
          },
          "metadata": {}
        }
      ]
    }
  ],
  "metadata": {
    "colab": {
      "provenance": []
    },
    "kernelspec": {
      "display_name": "Python 3",
      "name": "python3"
    },
    "language_info": {
      "codemirror_mode": {
        "name": "ipython",
        "version": 3
      },
      "file_extension": ".py",
      "mimetype": "text/x-python",
      "name": "python",
      "nbconvert_exporter": "python",
      "pygments_lexer": "ipython3",
      "version": "3.11.7"
    }
  },
  "nbformat": 4,
  "nbformat_minor": 0
}